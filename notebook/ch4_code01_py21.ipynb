{
  "nbformat": 4,
  "nbformat_minor": 0,
  "metadata": {
    "colab": {
      "name": "ch4_code01_py21.ipynb",
      "provenance": [],
      "collapsed_sections": [],
      "include_colab_link": true
    },
    "kernelspec": {
      "display_name": "Python 3",
      "language": "python",
      "name": "python3"
    },
    "language_info": {
      "codemirror_mode": {
        "name": "ipython",
        "version": 3
      },
      "file_extension": ".py",
      "mimetype": "text/x-python",
      "name": "python",
      "nbconvert_exporter": "python",
      "pygments_lexer": "ipython3",
      "version": "3.7.5"
    }
  },
  "cells": [
    {
      "cell_type": "markdown",
      "metadata": {
        "id": "view-in-github",
        "colab_type": "text"
      },
      "source": [
        "<a href=\"https://colab.research.google.com/github/jhjhj0703/py21/blob/master/notebook/ch4_code01_py21.ipynb\" target=\"_parent\"><img src=\"https://colab.research.google.com/assets/colab-badge.svg\" alt=\"Open In Colab\"/></a>"
      ]
    },
    {
      "cell_type": "markdown",
      "metadata": {
        "colab_type": "text",
        "id": "H4jNE-BMAK3f"
      },
      "source": [
        "# ch4_code01.ipynb\n",
        "## py21\n",
        "- 파이썬 함수\n",
        "    - 입력값을 가지고 어떤 일을 수행한 다음에 그 결과물을 출력\n",
        "        - 반복되는 부분을 함수로 전환.\n",
        "        - 코딩을 모듈화\n",
        "- 매개변수와 인수\n",
        "- 입력값과 결괏값\n",
        "    - return\n",
        "    - 여러 개의 입력을 처리하는 함수(*args)\n",
        "    - 키워드 파라미터 (kwargs)\n",
        "    - 매개변수에 초깃값 미리 설정\n",
        "- lambda 함수 정의"
      ]
    },
    {
      "cell_type": "code",
      "metadata": {
        "id": "hXPcvn1CtW6z",
        "colab_type": "code",
        "colab": {
          "base_uri": "https://localhost:8080/",
          "height": 69
        },
        "outputId": "5babb05a-53c3-40ee-a886-83b6f43b1e3e"
      },
      "source": [
        "# ch4_01_function.py\n",
        "#\n",
        "print(\"함수란 무엇인가?\")\n",
        "#######################################\n",
        "# 입력값을 가지고 어떤 일을 수행한 다음에 \n",
        "# 그 결과물을 내어놓는 것\n",
        "#######################################\n",
        "print(\"==>> \",\"입력값을 가지고 어떤 일을 수행한 다음에 그 결과물을 내어놓는 것\")\n",
        "print(\"함수를 사용하는 이유는 무엇일까?\")\n",
        "#######################################\n",
        "# 반복되는 부분을 함수로 전환.\n",
        "# 코딩을 모듈화\n",
        "#######################################"
      ],
      "execution_count": 2,
      "outputs": [
        {
          "output_type": "stream",
          "text": [
            "함수란 무엇인가?\n",
            "==>>  입력값을 가지고 어떤 일을 수행한 다음에 그 결과물을 내어놓는 것\n",
            "함수를 사용하는 이유는 무엇일까?\n"
          ],
          "name": "stdout"
        }
      ]
    },
    {
      "cell_type": "code",
      "metadata": {
        "id": "8qM3jLNsX6rp",
        "colab_type": "code",
        "colab": {
          "base_uri": "https://localhost:8080/",
          "height": 52
        },
        "outputId": "deeb5f35-5514-4c6a-dd34-49693d20b5e5"
      },
      "source": [
        "print(\"파이썬 함수의 구조\")\n",
        "#######################################\n",
        "\"\"\"\n",
        "def 함수명(매개변수):\n",
        "    <수행할 문장1>\n",
        "    <수행할 문장2>\n",
        "    ...\n",
        "\"\"\""
      ],
      "execution_count": 3,
      "outputs": [
        {
          "output_type": "stream",
          "text": [
            "파이썬 함수의 구조\n"
          ],
          "name": "stdout"
        },
        {
          "output_type": "execute_result",
          "data": {
            "text/plain": [
              "'\\ndef 함수명(매개변수):\\n    <수행할 문장1>\\n    <수행할 문장2>\\n    ...\\n'"
            ]
          },
          "metadata": {
            "tags": []
          },
          "execution_count": 3
        }
      ]
    },
    {
      "cell_type": "code",
      "metadata": {
        "id": "dQAvuBuYYy12",
        "colab_type": "code",
        "colab": {}
      },
      "source": [
        "def add(a):\n",
        "    print(a)\n",
        "\n"
      ],
      "execution_count": 0,
      "outputs": []
    },
    {
      "cell_type": "code",
      "metadata": {
        "id": "wP8_KSwsY813",
        "colab_type": "code",
        "colab": {
          "base_uri": "https://localhost:8080/",
          "height": 52
        },
        "outputId": "02d75e73-9ba7-4762-fd8b-064cf418b7d0"
      },
      "source": [
        "add(100)\n",
        "add(\"py21\")"
      ],
      "execution_count": 23,
      "outputs": [
        {
          "output_type": "stream",
          "text": [
            "100\n",
            "py21\n"
          ],
          "name": "stdout"
        }
      ]
    },
    {
      "cell_type": "code",
      "metadata": {
        "id": "WO1D4NhPYetU",
        "colab_type": "code",
        "colab": {}
      },
      "source": [
        "#######################################\n",
        "# add() 함수를 정의\n",
        "def add(a, b):\n",
        "    return a + b\n",
        "\n"
      ],
      "execution_count": 0,
      "outputs": []
    },
    {
      "cell_type": "code",
      "metadata": {
        "id": "7hSss5zjZpjf",
        "colab_type": "code",
        "colab": {
          "base_uri": "https://localhost:8080/",
          "height": 69
        },
        "outputId": "86723134-fdcf-4c45-cc66-ac857502ad51"
      },
      "source": [
        "# add() 함수를 사용\n",
        "a=3\n",
        "b=4\n",
        "c=add(a,b)\n",
        "print(c)\n",
        "d = add(3,4)\n",
        "print(d)\n",
        "\n",
        "x=[1,2,3]\n",
        "y=[4,5,6]\n",
        "z=x+y\n",
        "print(z)\n",
        "# "
      ],
      "execution_count": 18,
      "outputs": [
        {
          "output_type": "stream",
          "text": [
            "7\n",
            "7\n",
            "[1, 2, 3, 4, 5, 6]\n"
          ],
          "name": "stdout"
        }
      ]
    },
    {
      "cell_type": "code",
      "metadata": {
        "id": "FLJbZfCbafzp",
        "colab_type": "code",
        "colab": {
          "base_uri": "https://localhost:8080/",
          "height": 34
        },
        "outputId": "2d0a49ea-4402-4ba5-a69f-5682802dd315"
      },
      "source": [
        "z = add(x,y)\n",
        "print(z)"
      ],
      "execution_count": 19,
      "outputs": [
        {
          "output_type": "stream",
          "text": [
            "[1, 2, 3, 4, 5, 6]\n"
          ],
          "name": "stdout"
        }
      ]
    },
    {
      "cell_type": "code",
      "metadata": {
        "id": "rKC_B-AUazkP",
        "colab_type": "code",
        "colab": {
          "base_uri": "https://localhost:8080/",
          "height": 34
        },
        "outputId": "4e5f1cfc-fe5b-40d9-beb4-30c0a5c3833b"
      },
      "source": [
        "w = add(\"Hello \", \"Python!\")\n",
        "print(w)"
      ],
      "execution_count": 20,
      "outputs": [
        {
          "output_type": "stream",
          "text": [
            "Hello Python!\n"
          ],
          "name": "stdout"
        }
      ]
    },
    {
      "cell_type": "markdown",
      "metadata": {
        "id": "S96GTV3ZbPto",
        "colab_type": "text"
      },
      "source": [
        "### 매개변수와 인수"
      ]
    },
    {
      "cell_type": "code",
      "metadata": {
        "id": "bypoAeDrYxGk",
        "colab_type": "code",
        "colab": {}
      },
      "source": [
        "print(\"매개변수와 인수의 차이를 이해하자!\")\n",
        "#######################################\n",
        "# 매개변수는 함수에 입력으로 전달된 값을 받는 변수\n",
        "# 인수는 함수를 호출할 때 전달하는 입력값을 의미\n",
        "#######################################\n",
        "# add() 함수에서의 매개변수와 인수\n",
        "\"\"\"\n",
        "def add(a, b):  # a, b는 매개변수\n",
        "    return a+b\n",
        "print(add(3, 4))  # 3, 4는 인수\n",
        "\"\"\""
      ],
      "execution_count": 0,
      "outputs": []
    },
    {
      "cell_type": "code",
      "metadata": {
        "id": "nacxp9VUbclq",
        "colab_type": "code",
        "colab": {
          "base_uri": "https://localhost:8080/",
          "height": 52
        },
        "outputId": "8b6ef0b6-d8f5-4ce4-cf50-28797028521a"
      },
      "source": [
        "print(add(a,b))\n",
        "print(add(10,50))"
      ],
      "execution_count": 89,
      "outputs": [
        {
          "output_type": "stream",
          "text": [
            "5\n",
            "60\n"
          ],
          "name": "stdout"
        }
      ]
    },
    {
      "cell_type": "markdown",
      "metadata": {
        "id": "wRhtm-Qybzbu",
        "colab_type": "text"
      },
      "source": [
        "### 함수의 결괏값(return...)"
      ]
    },
    {
      "cell_type": "code",
      "metadata": {
        "id": "Nz5fzRjzbbL2",
        "colab_type": "code",
        "colab": {
          "base_uri": "https://localhost:8080/",
          "height": 52
        },
        "outputId": "aab0230c-4494-457e-b168-44efcce85d1b"
      },
      "source": [
        "print(\"입력값과 결괏값에 따른 함수의 형태\")\n",
        "#######################################\n",
        "# 입력값 ---> 함수 ----> 결괏값\n",
        "#######################################\n",
        "# 일반적인 함수\n",
        "# 입력값과 결괏값이 있는 함수\n",
        "\"\"\"\n",
        "def 함수이름(매개변수):\n",
        "    <수행할 문장>\n",
        "    ...\n",
        "    return 결과값\n",
        "\"\"\"\n",
        "\n",
        "def add2(a, b): \n",
        "    result = a + b \n",
        "    return result\n",
        "\n",
        "\n",
        "# 입력값과 결괏값이 있는 함수의 사용법\n",
        "# 결괏값을 받을 변수 = 함수이름(입력인수1, 입력인수2, ...)\n",
        "a = add2(3, 4)\n",
        "print(a)\n"
      ],
      "execution_count": 34,
      "outputs": [
        {
          "output_type": "stream",
          "text": [
            "입력값과 결괏값에 따른 함수의 형태\n",
            "7\n"
          ],
          "name": "stdout"
        }
      ]
    },
    {
      "cell_type": "code",
      "metadata": {
        "id": "IWG3VGjycI5f",
        "colab_type": "code",
        "colab": {
          "base_uri": "https://localhost:8080/",
          "height": 34
        },
        "outputId": "18651937-2dcb-477c-cfbc-2ea3bd35225f"
      },
      "source": [
        "#######################################\n",
        "# 입력값이 없는 함수\n",
        "\n",
        "def say(): \n",
        "    return 'Hi'\n",
        "\n",
        "\n",
        "# 입력값이 없는 함수의 사용법\n",
        "# 결괏값을 받을 변수 = 함수이름()\n",
        "a = say()\n",
        "print(a)"
      ],
      "execution_count": 35,
      "outputs": [
        {
          "output_type": "stream",
          "text": [
            "Hi\n"
          ],
          "name": "stdout"
        }
      ]
    },
    {
      "cell_type": "code",
      "metadata": {
        "id": "Ai1S3dx6cy_K",
        "colab_type": "code",
        "colab": {
          "base_uri": "https://localhost:8080/",
          "height": 69
        },
        "outputId": "b85d4471-6b04-4855-9be3-9a95ff74a2f1"
      },
      "source": [
        "#######################################\n",
        "# 결괏값이 없는 함수\n",
        "\n",
        "def add3(a, b): \n",
        "    print(\"%d, %d의 합은 %d입니다.\" % (a, b, a+b))\n",
        "\n",
        "\n",
        "# 결괏값이 없는 함수의 사용법\n",
        "# 함수이름(입력인수1, 입력인수2, ...)\n",
        "add3(3, 4)\n",
        "\n",
        "# 다음 결과는 무엇인가?\n",
        "a = add3(3, 4)\n",
        "print(a)\n",
        "# "
      ],
      "execution_count": 36,
      "outputs": [
        {
          "output_type": "stream",
          "text": [
            "3, 4의 합은 7입니다.\n",
            "3, 4의 합은 7입니다.\n",
            "None\n"
          ],
          "name": "stdout"
        }
      ]
    },
    {
      "cell_type": "code",
      "metadata": {
        "id": "MvGGGXD2dG2e",
        "colab_type": "code",
        "colab": {
          "base_uri": "https://localhost:8080/",
          "height": 34
        },
        "outputId": "c1384f76-0bdf-4639-dd64-f243fa2f1e6a"
      },
      "source": [
        "#######################################\n",
        "# 입력값도 결괏값도 없는 함수\n",
        "\n",
        "def say2(): \n",
        "    print('Hi')\n",
        "\n",
        "\n",
        "# 입력값도 결괏값도 없는 함수의 사용법\n",
        "# 함수이름()\n",
        "say()"
      ],
      "execution_count": 38,
      "outputs": [
        {
          "output_type": "execute_result",
          "data": {
            "text/plain": [
              "'Hi'"
            ]
          },
          "metadata": {
            "tags": []
          },
          "execution_count": 38
        }
      ]
    },
    {
      "cell_type": "code",
      "metadata": {
        "id": "naufXUU3doF-",
        "colab_type": "code",
        "colab": {
          "base_uri": "https://localhost:8080/",
          "height": 69
        },
        "outputId": "b602edc6-e13b-4964-9c03-c367d5121f58"
      },
      "source": [
        "#######################################\n",
        "print(\"매개변수의 값을 지정하여 호출하기\")\n",
        "#######################################\n",
        "def add4(a, b):\n",
        "    return a+b\n",
        "\n",
        "\n",
        "result = add4(a=3, b=7)  # a에 3, b에 7을 전달\n",
        "print(result)\n",
        "# 매개변수의 순서에 상관없이 사용\n",
        "result = add4(b=5, a=3)  # b에 5, a에 3을 전달\n",
        "print(result)\n",
        "#######################################"
      ],
      "execution_count": 43,
      "outputs": [
        {
          "output_type": "stream",
          "text": [
            "매개변수의 값을 지정하여 호출하기\n",
            "10\n",
            "8\n"
          ],
          "name": "stdout"
        }
      ]
    },
    {
      "cell_type": "code",
      "metadata": {
        "id": "zQLF7kmReExL",
        "colab_type": "code",
        "colab": {
          "base_uri": "https://localhost:8080/",
          "height": 133
        },
        "outputId": "c7fd338a-72c8-4ba1-b1b4-0b71c1c81753"
      },
      "source": [
        "result3 = add4(a=3, 7)\n",
        "print(result3)"
      ],
      "execution_count": 45,
      "outputs": [
        {
          "output_type": "error",
          "ename": "SyntaxError",
          "evalue": "ignored",
          "traceback": [
            "\u001b[0;36m  File \u001b[0;32m\"<ipython-input-45-dfdb089f26df>\"\u001b[0;36m, line \u001b[0;32m1\u001b[0m\n\u001b[0;31m    result3 = add4(a=3, 7)\u001b[0m\n\u001b[0m                       ^\u001b[0m\n\u001b[0;31mSyntaxError\u001b[0m\u001b[0;31m:\u001b[0m positional argument follows keyword argument\n"
          ]
        }
      ]
    },
    {
      "cell_type": "code",
      "metadata": {
        "id": "zPN576gweaaY",
        "colab_type": "code",
        "colab": {
          "base_uri": "https://localhost:8080/",
          "height": 185
        },
        "outputId": "d7d6ff39-52cd-4b70-ed29-bf187ce329ff"
      },
      "source": [
        "result3 = add4(7, a=3)\n",
        "print(result3)"
      ],
      "execution_count": 48,
      "outputs": [
        {
          "output_type": "error",
          "ename": "TypeError",
          "evalue": "ignored",
          "traceback": [
            "\u001b[0;31m---------------------------------------------------------------------------\u001b[0m",
            "\u001b[0;31mTypeError\u001b[0m                                 Traceback (most recent call last)",
            "\u001b[0;32m<ipython-input-48-c960b6b14d1b>\u001b[0m in \u001b[0;36m<module>\u001b[0;34m()\u001b[0m\n\u001b[0;32m----> 1\u001b[0;31m \u001b[0mresult3\u001b[0m \u001b[0;34m=\u001b[0m \u001b[0madd4\u001b[0m\u001b[0;34m(\u001b[0m\u001b[0;36m7\u001b[0m\u001b[0;34m,\u001b[0m \u001b[0ma\u001b[0m\u001b[0;34m=\u001b[0m\u001b[0;36m3\u001b[0m\u001b[0;34m)\u001b[0m\u001b[0;34m\u001b[0m\u001b[0;34m\u001b[0m\u001b[0m\n\u001b[0m\u001b[1;32m      2\u001b[0m \u001b[0mprint\u001b[0m\u001b[0;34m(\u001b[0m\u001b[0mresult3\u001b[0m\u001b[0;34m)\u001b[0m\u001b[0;34m\u001b[0m\u001b[0;34m\u001b[0m\u001b[0m\n",
            "\u001b[0;31mTypeError\u001b[0m: add4() got multiple values for argument 'a'"
          ]
        }
      ]
    },
    {
      "cell_type": "code",
      "metadata": {
        "id": "55F7EzRqeqRz",
        "colab_type": "code",
        "colab": {
          "base_uri": "https://localhost:8080/",
          "height": 34
        },
        "outputId": "4cb6f713-3aa3-4014-f930-ef3997ea76a7"
      },
      "source": [
        "result3 = add4(b=7, a=3)\n",
        "print(result3)"
      ],
      "execution_count": 49,
      "outputs": [
        {
          "output_type": "stream",
          "text": [
            "10\n"
          ],
          "name": "stdout"
        }
      ]
    },
    {
      "cell_type": "markdown",
      "metadata": {
        "id": "Ahy3cV7whelx",
        "colab_type": "text"
      },
      "source": [
        "### *args\n",
        "- arg: argument"
      ]
    },
    {
      "cell_type": "code",
      "metadata": {
        "id": "fQ8VI2xHdu_M",
        "colab_type": "code",
        "colab": {
          "base_uri": "https://localhost:8080/",
          "height": 34
        },
        "outputId": "3fa73230-e0cf-4450-81a3-f391320cc6b8"
      },
      "source": [
        "#######################################\n",
        "print(\"입력값이 몇 개가 될지 모를 때는 어떻게 해야 할까?\")\n",
        "#######################################\n",
        "\"\"\"\n",
        "def 함수이름(*매개변수): \n",
        "    <수행할 문장>\n",
        "    ...\n",
        "\"\"\"\n",
        "\n",
        "def add_many(*args):\n",
        "    result = 0 \n",
        "    for i in args: \n",
        "        result = result + i \n",
        "    return result \n"
      ],
      "execution_count": 52,
      "outputs": [
        {
          "output_type": "stream",
          "text": [
            "입력값이 몇 개가 될지 모를 때는 어떻게 해야 할까?\n"
          ],
          "name": "stdout"
        }
      ]
    },
    {
      "cell_type": "code",
      "metadata": {
        "id": "sB9P2IBGid7O",
        "colab_type": "code",
        "colab": {
          "base_uri": "https://localhost:8080/",
          "height": 34
        },
        "outputId": "64c71315-e6df-4c43-8b64-00b3fdc10f3f"
      },
      "source": [
        "add_many(1,2,3)"
      ],
      "execution_count": 54,
      "outputs": [
        {
          "output_type": "execute_result",
          "data": {
            "text/plain": [
              "6"
            ]
          },
          "metadata": {
            "tags": []
          },
          "execution_count": 54
        }
      ]
    },
    {
      "cell_type": "code",
      "metadata": {
        "id": "O6TKeb3jhxiM",
        "colab_type": "code",
        "colab": {
          "base_uri": "https://localhost:8080/",
          "height": 34
        },
        "outputId": "bb6854d3-33be-4b94-a72b-43b7434ce975"
      },
      "source": [
        "# add_many(1, 2, 3)\n",
        "add_many(1, 2, 3, 4, 5, 6, 7, 8, 9)\n",
        "\n",
        "result = add_many(1,2,3,4,5,6,7,8,9,10)\n",
        "print(result)"
      ],
      "execution_count": 57,
      "outputs": [
        {
          "output_type": "stream",
          "text": [
            "55\n"
          ],
          "name": "stdout"
        }
      ]
    },
    {
      "cell_type": "code",
      "metadata": {
        "id": "zlPZXboHiRYu",
        "colab_type": "code",
        "colab": {
          "base_uri": "https://localhost:8080/",
          "height": 69
        },
        "outputId": "1090e26a-9c6a-4107-97fb-ddd8839e1ff9"
      },
      "source": [
        "#######################################\n",
        "print(\"여러 개의 입력을 처리하는 함수(*args)\")\n",
        "#######################################\n",
        "\n",
        "def add_mul(choice, *args):\n",
        "    if choice == \"add\":\n",
        "        result = 0 \n",
        "        for i in args:\n",
        "            result = result + i \n",
        "    elif choice == \"mul\":\n",
        "        result = 1 \n",
        "        for i in args: \n",
        "            result = result * i \n",
        "    return result \n",
        "\n",
        "# add\n",
        "result = add_mul('add', 1,2,3,4,5)\n",
        "print(result)\n",
        "# multiply\n",
        "result = add_mul('mul', 1,2,3,4,5)\n",
        "print(result)"
      ],
      "execution_count": 60,
      "outputs": [
        {
          "output_type": "stream",
          "text": [
            "여러 개의 입력을 처리하는 함수(*args)\n",
            "15\n",
            "120\n"
          ],
          "name": "stdout"
        }
      ]
    },
    {
      "cell_type": "markdown",
      "metadata": {
        "id": "oCSZRZdtkNio",
        "colab_type": "text"
      },
      "source": [
        "### 키워드 파라미터 **kwargs"
      ]
    },
    {
      "cell_type": "code",
      "metadata": {
        "id": "SwBhGdu7jbBz",
        "colab_type": "code",
        "colab": {
          "base_uri": "https://localhost:8080/",
          "height": 69
        },
        "outputId": "c71c98a6-b3c4-43b2-d703-e62528cd2e0c"
      },
      "source": [
        "#\n",
        "#######################################\n",
        "print(\"키워드 파라미터 **kwargs\")\n",
        "#######################################\n",
        "\n",
        "def print_kwargs(**kwargs):\n",
        "    print(kwargs)\n",
        "\n",
        "\n",
        "# print_kwargs 함수는 매개변수 kwargs를 출력하는 함수\n",
        "#\n",
        "print_kwargs(a=1)\n",
        "\n",
        "print_kwargs(name='foo', age=3)\n",
        "\n",
        "#\n",
        "# **kwargs처럼 매개변수 이름 앞에 **을 붙이면 매개변수 \n",
        "# kwargs는 딕셔너리가 되고 모든 key=value 형태의 결괏값이 \n",
        "# 그 딕셔너리에 저장된다.\n",
        "#"
      ],
      "execution_count": 61,
      "outputs": [
        {
          "output_type": "stream",
          "text": [
            "키워드 파라미터 **kwargs\n",
            "{'a': 1}\n",
            "{'name': 'foo', 'age': 3}\n"
          ],
          "name": "stdout"
        }
      ]
    },
    {
      "cell_type": "code",
      "metadata": {
        "id": "OXlupyXfkWSD",
        "colab_type": "code",
        "colab": {
          "base_uri": "https://localhost:8080/",
          "height": 52
        },
        "outputId": "661aa6e4-b446-4e7b-8590-c04fc4c513f8"
      },
      "source": [
        "#######################################\n",
        "print(\"함수의 결괏값은 언제나 하나\")\n",
        "#######################################\n",
        "#\n",
        "def add_and_mul(a,b): \n",
        "    return a+b, a*b\n",
        "\n",
        "# 1,2 == (1,2)\n",
        "# add_and_mul() 사용 1.\n",
        "result = add_and_mul(3,4)  # (7,12)\n",
        "\n",
        "print(result)"
      ],
      "execution_count": 65,
      "outputs": [
        {
          "output_type": "stream",
          "text": [
            "함수의 결괏값은 언제나 하나\n",
            "(7, 12)\n"
          ],
          "name": "stdout"
        }
      ]
    },
    {
      "cell_type": "code",
      "metadata": {
        "id": "XT9srPTHlPBN",
        "colab_type": "code",
        "colab": {
          "base_uri": "https://localhost:8080/",
          "height": 34
        },
        "outputId": "5412e0e1-5fed-4661-9106-103600aa6992"
      },
      "source": [
        "# add_and_mul() 사용 2.\n",
        "result1, result2 = add_and_mul(3, 4)\n",
        "\n",
        "result1, result2"
      ],
      "execution_count": 66,
      "outputs": [
        {
          "output_type": "execute_result",
          "data": {
            "text/plain": [
              "(7, 12)"
            ]
          },
          "metadata": {
            "tags": []
          },
          "execution_count": 66
        }
      ]
    },
    {
      "cell_type": "markdown",
      "metadata": {
        "id": "h9eYeNCFmLhM",
        "colab_type": "text"
      },
      "source": [
        "### 잘못된 함수 사용"
      ]
    },
    {
      "cell_type": "code",
      "metadata": {
        "id": "cuBLjtfjl1Yv",
        "colab_type": "code",
        "colab": {
          "base_uri": "https://localhost:8080/",
          "height": 52
        },
        "outputId": "338d71b2-455c-4f1e-aba1-aa8795ca4068"
      },
      "source": [
        "#######################################\n",
        "print(\"잘못된 함수\")\n",
        "#######################################\n",
        "def add_and_mul2(a,b): \n",
        "    return a+b \n",
        "    return a*b  # Not working!!\n",
        "\n",
        "\n",
        "result = add_and_mul2(2, 3)\n",
        "print(result)"
      ],
      "execution_count": 67,
      "outputs": [
        {
          "output_type": "stream",
          "text": [
            "잘못된 함수\n",
            "5\n"
          ],
          "name": "stdout"
        }
      ]
    },
    {
      "cell_type": "markdown",
      "metadata": {
        "id": "dqYYjRrVmi1a",
        "colab_type": "text"
      },
      "source": [
        "### return 의 용도"
      ]
    },
    {
      "cell_type": "code",
      "metadata": {
        "id": "NtV5ISIFmJHM",
        "colab_type": "code",
        "colab": {
          "base_uri": "https://localhost:8080/",
          "height": 52
        },
        "outputId": "0672f559-fa28-4456-80d9-9e07c7a2c273"
      },
      "source": [
        "#######################################\n",
        "print(\"return 의 용도: 함수 실행 종료\")\n",
        "#######################################\n",
        "def say_nick(nick): \n",
        "    if nick == \"바보\": \n",
        "        return \n",
        "    print(\"나의 별명은 %s 입니다.\" % nick)\n",
        "\n",
        "\n",
        "# say_nick(\"홍길동\")\n",
        "say_nick(\"바보\")\n",
        "say_nick(\"홍길동\")"
      ],
      "execution_count": 69,
      "outputs": [
        {
          "output_type": "stream",
          "text": [
            "return 의 용도: 함수 실행 종료\n",
            "나의 별명은 홍길동 입니다.\n"
          ],
          "name": "stdout"
        }
      ]
    },
    {
      "cell_type": "markdown",
      "metadata": {
        "id": "VqvBQLwgnMl4",
        "colab_type": "text"
      },
      "source": [
        "### 매개변수에 초깃값 미리 설정"
      ]
    },
    {
      "cell_type": "code",
      "metadata": {
        "id": "_0iXiTVemzN3",
        "colab_type": "code",
        "colab": {
          "base_uri": "https://localhost:8080/",
          "height": 86
        },
        "outputId": "24f8ac96-20b9-4ce9-ace2-66f47e35fa2b"
      },
      "source": [
        "#----------------------------------------\n",
        "#######################################\n",
        "print(\"매개변수에 초깃값 미리 설정하기\")\n",
        "#######################################\n",
        "def say_myself(name, old, man=True): \n",
        "    print(\"나의 이름은 %s 입니다.\" % name) \n",
        "    print(\"나이는 %d살입니다.\" % old) \n",
        "    if man: \n",
        "        print(\"남자입니다.\")\n",
        "    else: \n",
        "        print(\"여자입니다.\")\n",
        "    \n",
        "\n",
        "# say_myself(\"박응용\", 27)\n",
        "# say_myself(\"박응용\", 27, True)\n",
        "\n",
        "say_myself(\"박응용\", 27, False)"
      ],
      "execution_count": 72,
      "outputs": [
        {
          "output_type": "stream",
          "text": [
            "매개변수에 초깃값 미리 설정하기\n",
            "나의 이름은 박응용 입니다.\n",
            "나이는 27살입니다.\n",
            "여자입니다.\n"
          ],
          "name": "stdout"
        }
      ]
    },
    {
      "cell_type": "code",
      "metadata": {
        "id": "bDVbA7JEnRbD",
        "colab_type": "code",
        "colab": {
          "base_uri": "https://localhost:8080/",
          "height": 133
        },
        "outputId": "c00fb1b4-5b92-4b83-d25a-1403c441f386"
      },
      "source": [
        "\n",
        "def say_myself2(name, man=True, old): \n",
        "    print(\"나의 이름은 %s 입니다.\" % name) \n",
        "    print(\"나이는 %d살입니다.\" % old) \n",
        "    if man: \n",
        "        print(\"남자입니다.\") \n",
        "    else:\n",
        "        print(\"여자입니다.\")\n",
        "    \n",
        "\n",
        "# 초깃값을 설정해 놓은 매개변수 뒤에 \n",
        "# 초깃값을 설정해 놓지 않은 매개변수는 사용할 수 없다\n",
        "# 초기화시키고 싶은 매개변수를 항상 뒤쪽에 놓는다.\n",
        "# 키워드형식의 매개변수는 항상 뒤에 지정."
      ],
      "execution_count": 73,
      "outputs": [
        {
          "output_type": "error",
          "ename": "SyntaxError",
          "evalue": "ignored",
          "traceback": [
            "\u001b[0;36m  File \u001b[0;32m\"<ipython-input-73-6c97f6d33df8>\"\u001b[0;36m, line \u001b[0;32m2\u001b[0m\n\u001b[0;31m    def say_myself2(name, man=True, old):\u001b[0m\n\u001b[0m                   ^\u001b[0m\n\u001b[0;31mSyntaxError\u001b[0m\u001b[0;31m:\u001b[0m non-default argument follows default argument\n"
          ]
        }
      ]
    },
    {
      "cell_type": "code",
      "metadata": {
        "id": "HQ975D4rodAC",
        "colab_type": "code",
        "colab": {
          "base_uri": "https://localhost:8080/",
          "height": 69
        },
        "outputId": "fc0debb7-06d0-4f4d-96af-ff33ae99eae0"
      },
      "source": [
        "def say_myself2(name, old, man=True): \n",
        "    print(\"나의 이름은 %s 입니다.\" % name) \n",
        "    print(\"나이는 %d살입니다.\" % old) \n",
        "    if man: \n",
        "        print(\"남자입니다.\") \n",
        "    else:\n",
        "        print(\"여자입니다.\")\n",
        "\n",
        "say_myself2(\"jhjhj0703\", 21)"
      ],
      "execution_count": 74,
      "outputs": [
        {
          "output_type": "stream",
          "text": [
            "나의 이름은 jhjhj0703 입니다.\n",
            "나이는 21살입니다.\n",
            "남자입니다.\n"
          ],
          "name": "stdout"
        }
      ]
    },
    {
      "cell_type": "markdown",
      "metadata": {
        "id": "BmGeahzwpCKR",
        "colab_type": "text"
      },
      "source": [
        "### 함수 안에서 선언한 변수의 효력 범위\n",
        "- scope of a variable"
      ]
    },
    {
      "cell_type": "code",
      "metadata": {
        "id": "TpjeZf7KoA6Q",
        "colab_type": "code",
        "colab": {
          "base_uri": "https://localhost:8080/",
          "height": 52
        },
        "outputId": "a1c7e7fa-503c-40d4-ad54-eabb63fc292d"
      },
      "source": [
        "#######################################\n",
        "print(\"함수 안에서 선언한 변수의 효력 범위\")\n",
        "# 전역변수\n",
        "# 지역 변수, 자동 변수\n",
        "#######################################\n",
        "\n",
        "# vartest.py\n",
        "a = 1  # 전역 변수\n",
        "def vartest(a):  # 지역변수(매개변수)\n",
        "    a = a +1\n",
        "\n",
        "vartest(a)\n",
        "print(a)"
      ],
      "execution_count": 75,
      "outputs": [
        {
          "output_type": "stream",
          "text": [
            "함수 안에서 선언한 변수의 효력 범위\n",
            "1\n"
          ],
          "name": "stdout"
        }
      ]
    },
    {
      "cell_type": "code",
      "metadata": {
        "id": "laGfnDfCqQMM",
        "colab_type": "code",
        "colab": {
          "base_uri": "https://localhost:8080/",
          "height": 52
        },
        "outputId": "3b1d5d5c-c65c-4853-b57a-346cceb32d05"
      },
      "source": [
        "a = 1  # 전역 변수\n",
        "def vartest(a):  # 지역변수(매개변수)\n",
        "    a = a +1\n",
        "    print(\"지역변수 a = \", a)\n",
        "\n",
        "vartest(a)\n",
        "print(\"전역변수 a = \", a)"
      ],
      "execution_count": 78,
      "outputs": [
        {
          "output_type": "stream",
          "text": [
            "지역변수 a =  2\n",
            "전역변수 a =  1\n"
          ],
          "name": "stdout"
        }
      ]
    },
    {
      "cell_type": "code",
      "metadata": {
        "id": "NJBRKKKJpUFK",
        "colab_type": "code",
        "colab": {
          "base_uri": "https://localhost:8080/",
          "height": 203
        },
        "outputId": "1cfb7af3-04a3-4d3f-cdf0-6585036fb023"
      },
      "source": [
        "# vartest_error.py\n",
        "def vartest2(zz):\n",
        "    zz = zz + 1\n",
        "\n",
        "vartest2(3)\n",
        "print(zz)  # Error\n"
      ],
      "execution_count": 81,
      "outputs": [
        {
          "output_type": "error",
          "ename": "NameError",
          "evalue": "ignored",
          "traceback": [
            "\u001b[0;31m---------------------------------------------------------------------------\u001b[0m",
            "\u001b[0;31mNameError\u001b[0m                                 Traceback (most recent call last)",
            "\u001b[0;32m<ipython-input-81-2ba0629b3cdc>\u001b[0m in \u001b[0;36m<module>\u001b[0;34m()\u001b[0m\n\u001b[1;32m      3\u001b[0m \u001b[0;34m\u001b[0m\u001b[0m\n\u001b[1;32m      4\u001b[0m \u001b[0mvartest2\u001b[0m\u001b[0;34m(\u001b[0m\u001b[0;36m3\u001b[0m\u001b[0;34m)\u001b[0m\u001b[0;34m\u001b[0m\u001b[0;34m\u001b[0m\u001b[0m\n\u001b[0;32m----> 5\u001b[0;31m \u001b[0mprint\u001b[0m\u001b[0;34m(\u001b[0m\u001b[0mzz\u001b[0m\u001b[0;34m)\u001b[0m  \u001b[0;31m# Error\u001b[0m\u001b[0;34m\u001b[0m\u001b[0;34m\u001b[0m\u001b[0m\n\u001b[0m",
            "\u001b[0;31mNameError\u001b[0m: name 'zz' is not defined"
          ]
        }
      ]
    },
    {
      "cell_type": "code",
      "metadata": {
        "id": "vjH7IEiwq_xH",
        "colab_type": "code",
        "colab": {
          "base_uri": "https://localhost:8080/",
          "height": 52
        },
        "outputId": "621fac52-7d62-4804-a8a5-eb59f0e07166"
      },
      "source": [
        "#######################################\n",
        "print(\"함수 안에서 함수 밖의 변수를 변경하는 방법\")\n",
        "# return 사용\n",
        "# global 변수 사용\n",
        "#######################################\n",
        "# 1. return 사용하기\n",
        "a = 1 \n",
        "def vartest3(a): \n",
        "    a = a +1 \n",
        "    return a\n",
        "\n",
        "a = vartest3(a) \n",
        "print(a)"
      ],
      "execution_count": 82,
      "outputs": [
        {
          "output_type": "stream",
          "text": [
            "함수 안에서 함수 밖의 변수를 변경하는 방법\n",
            "2\n"
          ],
          "name": "stdout"
        }
      ]
    },
    {
      "cell_type": "code",
      "metadata": {
        "id": "hDf2iGpprt2a",
        "colab_type": "code",
        "colab": {
          "base_uri": "https://localhost:8080/",
          "height": 34
        },
        "outputId": "27d6c8a0-3109-4698-8ca0-b607aaf1cdb8"
      },
      "source": [
        "# 2. global 명령어 사용하기(가능한 사용하지 않는다.)\n",
        "a = 1 \n",
        "def vartest4(): \n",
        "    global a \n",
        "    a = a+1\n",
        "\n",
        "vartest4() \n",
        "print(a)"
      ],
      "execution_count": 83,
      "outputs": [
        {
          "output_type": "stream",
          "text": [
            "2\n"
          ],
          "name": "stdout"
        }
      ]
    },
    {
      "cell_type": "markdown",
      "metadata": {
        "id": "SbCltRKvslqX",
        "colab_type": "text"
      },
      "source": [
        "### lambda 함수 정의\n",
        "- 이름 없는 함수를정의"
      ]
    },
    {
      "cell_type": "code",
      "metadata": {
        "id": "MfSG2CcQsFfd",
        "colab_type": "code",
        "colab": {
          "base_uri": "https://localhost:8080/",
          "height": 69
        },
        "outputId": "d614bc59-0b00-42bc-f07f-10e90fe4878d"
      },
      "source": [
        "#--------   lambda  -------------------\n",
        "#######################################\n",
        "print(\"lambda\")\n",
        "#######################################\n",
        "# lambda는 함수를 생성할 때 사용하는 예약어로 def와 동일한 역할을 한다. \n",
        "# 보통 함수를 한줄로 간결하게 만들 때 사용한다.\n",
        "#\n",
        "# lambda 사용법\n",
        "#\n",
        "# lambda 매개변수1, 매개변수2, ... : 매개변수를 이용한 표현식\n",
        "#\n",
        "print(\"lambda를 이용한 add 함수\")\n",
        "\n",
        "add = lambda a, b: a+b\n",
        "\n",
        "result = add(3, 4)\n",
        "print(result)\n",
        "\n",
        "# lambda 예약어로 만든 함수는 return 명령어가 없어도 결괏값을 돌려준다.\n"
      ],
      "execution_count": 84,
      "outputs": [
        {
          "output_type": "stream",
          "text": [
            "lambda\n",
            "lambda를 이용한 add 함수\n",
            "7\n"
          ],
          "name": "stdout"
        }
      ]
    },
    {
      "cell_type": "code",
      "metadata": {
        "id": "ox4kfxvqsyx3",
        "colab_type": "code",
        "colab": {
          "base_uri": "https://localhost:8080/",
          "height": 34
        },
        "outputId": "2cf508ae-5093-4264-cc89-49290e826937"
      },
      "source": [
        "################################\n",
        "# lambda 함수의 응용\n",
        "#\n",
        "models = ['K-3000', 'N-1000', 'T-2000', 'X-5000']\n",
        "sorted(models, key=lambda x: x[-4:])\n",
        "\n",
        "# So cool!!!\n"
      ],
      "execution_count": 85,
      "outputs": [
        {
          "output_type": "execute_result",
          "data": {
            "text/plain": [
              "['N-1000', 'T-2000', 'K-3000', 'X-5000']"
            ]
          },
          "metadata": {
            "tags": []
          },
          "execution_count": 85
        }
      ]
    },
    {
      "cell_type": "code",
      "metadata": {
        "id": "Nn87uHUqtW64",
        "colab_type": "code",
        "outputId": "5bf73090-88ca-4de6-ff68-74fa893ee1de",
        "colab": {
          "base_uri": "https://localhost:8080/",
          "height": 34
        }
      },
      "source": [
        "# vartest.py\n",
        "a = 1\n",
        "def vartest(a):\n",
        "    a = a +1\n",
        "    # print(a)\n",
        "\n",
        "vartest(a)\n",
        "print(a)"
      ],
      "execution_count": 86,
      "outputs": [
        {
          "output_type": "stream",
          "text": [
            "1\n"
          ],
          "name": "stdout"
        }
      ]
    },
    {
      "cell_type": "code",
      "metadata": {
        "id": "0Y0fMfkPtW62",
        "colab_type": "code",
        "colab": {
          "base_uri": "https://localhost:8080/",
          "height": 52
        },
        "outputId": "0d30d7b8-7759-4c93-f3e9-f7886e40b8ea"
      },
      "source": [
        "# function_test.py\n",
        "\n",
        "# scope_test()\n",
        "x = 5\n",
        "\n",
        "\n",
        "def scope_test():\n",
        "    print(x)\n",
        "    print(x+5)\n",
        "    # x += 5\n",
        "\n",
        "\n",
        "scope_test()"
      ],
      "execution_count": 90,
      "outputs": [
        {
          "output_type": "stream",
          "text": [
            "5\n",
            "10\n"
          ],
          "name": "stdout"
        }
      ]
    },
    {
      "cell_type": "code",
      "metadata": {
        "id": "al0ECGp7ENip",
        "colab_type": "code",
        "colab": {
          "base_uri": "https://localhost:8080/",
          "height": 174
        },
        "outputId": "a25b24ba-1b18-4c14-bd0f-9e841b3a7012"
      },
      "source": [
        "# *args : multiple parameters\n",
        "\n",
        "\n",
        "def args_test(*args):\n",
        "    print(type(args))\n",
        "    print(args)\n",
        "    for arg in args:\n",
        "        print(arg)\n",
        "\n",
        "\n",
        "args_test(1, 2, 3, 4)\n",
        "args_test(list(range(4)))"
      ],
      "execution_count": 91,
      "outputs": [
        {
          "output_type": "stream",
          "text": [
            "<class 'tuple'>\n",
            "(1, 2, 3, 4)\n",
            "1\n",
            "2\n",
            "3\n",
            "4\n",
            "<class 'tuple'>\n",
            "([0, 1, 2, 3],)\n",
            "[0, 1, 2, 3]\n"
          ],
          "name": "stdout"
        }
      ]
    },
    {
      "cell_type": "code",
      "metadata": {
        "id": "kBgJ4E6ZEUHJ",
        "colab_type": "code",
        "colab": {
          "base_uri": "https://localhost:8080/",
          "height": 86
        },
        "outputId": "56da50e6-8a40-42bc-ae7d-adf0c0a71840"
      },
      "source": [
        "# **kawargs : keyword arguments\n",
        "\n",
        "\n",
        "def kwarg_test(**kwargs):\n",
        "    print(type(kwargs))\n",
        "    print(kwargs)\n",
        "    for item in kwargs.items():\n",
        "        print(item)\n",
        "\n",
        "\n",
        "kwarg_test(a=1, b='hi')\n",
        "# kwarg_test(x=[1,2,3], y='Hello')"
      ],
      "execution_count": 93,
      "outputs": [
        {
          "output_type": "stream",
          "text": [
            "<class 'dict'>\n",
            "{'a': 1, 'b': 'hi'}\n",
            "('a', 1)\n",
            "('b', 'hi')\n"
          ],
          "name": "stdout"
        }
      ]
    },
    {
      "cell_type": "markdown",
      "metadata": {
        "id": "aiBB3U0ge03F",
        "colab_type": "text"
      },
      "source": [
        "## 도전 코딩\n",
        "- A 학급에 총 10명의 학생이 있다. 이 학생들의 중간고사 점수는 다음과 같다.\n",
        "\n",
        "- A = [70, 60, 55, 75, 95, 90, 80, 80, 85, 100]\n",
        "\n",
        "> 함수를 사용하여 A 학급의 평균 점수를 구해 보자.\n",
        ">> 함수명: average_class(A)\n"
      ]
    },
    {
      "cell_type": "code",
      "metadata": {
        "id": "fGBlcLGN-3pd",
        "colab_type": "code",
        "colab": {
          "base_uri": "https://localhost:8080/",
          "height": 34
        },
        "outputId": "ae4864bc-7fda-4a59-d27c-e1ae242be872"
      },
      "source": [
        "def average_class(A):\n",
        "    result = 0\n",
        "    for i in (A):\n",
        "        result += i\n",
        "    return result / len(A)\n",
        "\n",
        "(A) = [70,60,55,75,95,90,80,80,85,100]\n",
        "print(\"평균값 :{}\".format(average_class(A)));"
      ],
      "execution_count": 102,
      "outputs": [
        {
          "output_type": "stream",
          "text": [
            "평균값 :79.0\n"
          ],
          "name": "stdout"
        }
      ]
    },
    {
      "cell_type": "code",
      "metadata": {
        "id": "27_Efz_zFcPd",
        "colab_type": "code",
        "colab": {}
      },
      "source": [
        ""
      ],
      "execution_count": 0,
      "outputs": []
    }
  ]
}