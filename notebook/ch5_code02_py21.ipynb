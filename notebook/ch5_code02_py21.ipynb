{
  "nbformat": 4,
  "nbformat_minor": 0,
  "metadata": {
    "colab": {
      "name": "ch5_code02_py21.ipynb",
      "provenance": [],
      "collapsed_sections": [],
      "include_colab_link": true
    },
    "kernelspec": {
      "display_name": "Python 3",
      "language": "python",
      "name": "python3"
    },
    "language_info": {
      "codemirror_mode": {
        "name": "ipython",
        "version": 3
      },
      "file_extension": ".py",
      "mimetype": "text/x-python",
      "name": "python",
      "nbconvert_exporter": "python",
      "pygments_lexer": "ipython3",
      "version": "3.7.5"
    }
  },
  "cells": [
    {
      "cell_type": "markdown",
      "metadata": {
        "id": "view-in-github",
        "colab_type": "text"
      },
      "source": [
        "<a href=\"https://colab.research.google.com/github/jhjhj0703/py21/blob/master/notebook/ch5_code02_py21.ipynb\" target=\"_parent\"><img src=\"https://colab.research.google.com/assets/colab-badge.svg\" alt=\"Open In Colab\"/></a>"
      ]
    },
    {
      "cell_type": "markdown",
      "metadata": {
        "colab_type": "text",
        "id": "H4jNE-BMAK3f"
      },
      "source": [
        "# ch5_code02.ipynb\n",
        "## 5장 파이썬 날개달기\n",
        "## py21\n",
        "### 예외 처리, 내장 함수, 외장 함수\n",
        "---\n",
        "- 예외 처리\n",
        "   - 오류는 어떤 때 발생하는가?\n",
        "   - 오류 예외 처리 기법\n",
        "     - try, except문\n",
        "     - try .. finally\n",
        "     - 여러개의 오류처리하기\n",
        "   - 오류 회피하기\n",
        "   - 오류 일부러 발생시키기\n",
        "   - 예외 만들기"
      ]
    },
    {
      "cell_type": "markdown",
      "metadata": {
        "id": "NkDbXz8Bt6NH",
        "colab_type": "text"
      },
      "source": [
        "### 예외 처리\n",
        "\n",
        "> try ... except ... finally"
      ]
    },
    {
      "cell_type": "code",
      "metadata": {
        "id": "hXPcvn1CtW6z",
        "colab_type": "code",
        "outputId": "b189bb52-dbb9-4d08-e589-6606943e0760",
        "colab": {
          "base_uri": "https://localhost:8080/",
          "height": 34
        }
      },
      "source": [
        "# ch5_04_handling_exception.py\n",
        "#\n",
        "print(\"예외 처리\")\n",
        "#######################################\n",
        "# 빈번히 발생하는 오류를 처리\n",
        "# try, except, finally 를 사용 # Python : except / Java : catch\n",
        "#######################################\n",
        "#"
      ],
      "execution_count": 0,
      "outputs": [
        {
          "output_type": "stream",
          "text": [
            "예외 처리\n"
          ],
          "name": "stdout"
        }
      ]
    },
    {
      "cell_type": "markdown",
      "metadata": {
        "id": "_GWnrjCDuSbI",
        "colab_type": "text"
      },
      "source": [
        "### 대표적인 오류 유형"
      ]
    },
    {
      "cell_type": "code",
      "metadata": {
        "id": "1aj7c5O-uIfb",
        "colab_type": "code",
        "outputId": "fced1493-24be-4ecb-a789-263e8d097d45",
        "colab": {
          "base_uri": "https://localhost:8080/",
          "height": 213
        }
      },
      "source": [
        "print(\"오류는 어떤 때 발생하는가?\")\n",
        "#######################################\n",
        "# 오류가 발생하는 사례\n",
        "#######################################\n",
        "#\n",
        "# 1. 디렉터리 안에 없는 파일을 열려고 시도했을 때\n",
        "# \n",
        "f = open(\"나없는파일\", 'r')   # FileNotFoundError:"
      ],
      "execution_count": 0,
      "outputs": [
        {
          "output_type": "stream",
          "text": [
            "오류는 어떤 때 발생하는가?\n"
          ],
          "name": "stdout"
        },
        {
          "output_type": "error",
          "ename": "FileNotFoundError",
          "evalue": "ignored",
          "traceback": [
            "\u001b[0;31m---------------------------------------------------------------------------\u001b[0m",
            "\u001b[0;31mFileNotFoundError\u001b[0m                         Traceback (most recent call last)",
            "\u001b[0;32m<ipython-input-3-5a1e11716031>\u001b[0m in \u001b[0;36m<module>\u001b[0;34m()\u001b[0m\n\u001b[1;32m      6\u001b[0m \u001b[0;31m# 1. 디렉터리 안에 없는 파일을 열려고 시도했을 때\u001b[0m\u001b[0;34m\u001b[0m\u001b[0;34m\u001b[0m\u001b[0;34m\u001b[0m\u001b[0m\n\u001b[1;32m      7\u001b[0m \u001b[0;31m#\u001b[0m\u001b[0;34m\u001b[0m\u001b[0;34m\u001b[0m\u001b[0;34m\u001b[0m\u001b[0m\n\u001b[0;32m----> 8\u001b[0;31m \u001b[0mf\u001b[0m \u001b[0;34m=\u001b[0m \u001b[0mopen\u001b[0m\u001b[0;34m(\u001b[0m\u001b[0;34m\"나없는파일\"\u001b[0m\u001b[0;34m,\u001b[0m \u001b[0;34m'r'\u001b[0m\u001b[0;34m)\u001b[0m   \u001b[0;31m# FileNotFoundError:\u001b[0m\u001b[0;34m\u001b[0m\u001b[0;34m\u001b[0m\u001b[0m\n\u001b[0m",
            "\u001b[0;31mFileNotFoundError\u001b[0m: [Errno 2] No such file or directory: '나없는파일'"
          ]
        }
      ]
    },
    {
      "cell_type": "code",
      "metadata": {
        "id": "X8ujBPYBuYGk",
        "colab_type": "code",
        "outputId": "01953f6b-9d9a-42b3-ad85-6f0fe3cbd71b",
        "colab": {
          "base_uri": "https://localhost:8080/",
          "height": 196
        }
      },
      "source": [
        "# 2. 0으로 다른 숫자를 나누는 경우 (division by zero)\n",
        "4 / 0   # ZeroDivisionError: division by zero"
      ],
      "execution_count": 0,
      "outputs": [
        {
          "output_type": "error",
          "ename": "ZeroDivisionError",
          "evalue": "ignored",
          "traceback": [
            "\u001b[0;31m---------------------------------------------------------------------------\u001b[0m",
            "\u001b[0;31mZeroDivisionError\u001b[0m                         Traceback (most recent call last)",
            "\u001b[0;32m<ipython-input-4-933a3642b59a>\u001b[0m in \u001b[0;36m<module>\u001b[0;34m()\u001b[0m\n\u001b[1;32m      1\u001b[0m \u001b[0;34m\u001b[0m\u001b[0m\n\u001b[1;32m      2\u001b[0m \u001b[0;31m# 2. 0으로 다른 숫자를 나누는 경우 (division by zero)\u001b[0m\u001b[0;34m\u001b[0m\u001b[0;34m\u001b[0m\u001b[0;34m\u001b[0m\u001b[0m\n\u001b[0;32m----> 3\u001b[0;31m \u001b[0;36m4\u001b[0m \u001b[0;34m/\u001b[0m \u001b[0;36m0\u001b[0m   \u001b[0;31m# ZeroDivisionError:\u001b[0m\u001b[0;34m\u001b[0m\u001b[0;34m\u001b[0m\u001b[0m\n\u001b[0m",
            "\u001b[0;31mZeroDivisionError\u001b[0m: division by zero"
          ]
        }
      ]
    },
    {
      "cell_type": "code",
      "metadata": {
        "id": "yd2fYBARusrM",
        "colab_type": "code",
        "outputId": "54c1540a-e748-4877-aed3-a1bbb686a032",
        "colab": {
          "base_uri": "https://localhost:8080/",
          "height": 213
        }
      },
      "source": [
        "# 범위를 벗어 난 인덱싱 (list index out of range)\n",
        "a = [1,2,3]\n",
        "print(a[1])\n",
        "a[3]  # IndexError: list index out of range"
      ],
      "execution_count": 0,
      "outputs": [
        {
          "output_type": "stream",
          "text": [
            "2\n"
          ],
          "name": "stdout"
        },
        {
          "output_type": "error",
          "ename": "IndexError",
          "evalue": "ignored",
          "traceback": [
            "\u001b[0;31m---------------------------------------------------------------------------\u001b[0m",
            "\u001b[0;31mIndexError\u001b[0m                                Traceback (most recent call last)",
            "\u001b[0;32m<ipython-input-6-f8f45cce0e72>\u001b[0m in \u001b[0;36m<module>\u001b[0;34m()\u001b[0m\n\u001b[1;32m      2\u001b[0m \u001b[0ma\u001b[0m \u001b[0;34m=\u001b[0m \u001b[0;34m[\u001b[0m\u001b[0;36m1\u001b[0m\u001b[0;34m,\u001b[0m\u001b[0;36m2\u001b[0m\u001b[0;34m,\u001b[0m\u001b[0;36m3\u001b[0m\u001b[0;34m]\u001b[0m\u001b[0;34m\u001b[0m\u001b[0;34m\u001b[0m\u001b[0m\n\u001b[1;32m      3\u001b[0m \u001b[0mprint\u001b[0m\u001b[0;34m(\u001b[0m\u001b[0ma\u001b[0m\u001b[0;34m[\u001b[0m\u001b[0;36m1\u001b[0m\u001b[0;34m]\u001b[0m\u001b[0;34m)\u001b[0m\u001b[0;34m\u001b[0m\u001b[0;34m\u001b[0m\u001b[0m\n\u001b[0;32m----> 4\u001b[0;31m \u001b[0ma\u001b[0m\u001b[0;34m[\u001b[0m\u001b[0;36m3\u001b[0m\u001b[0;34m]\u001b[0m  \u001b[0;31m# IndexError: list index out of range\u001b[0m\u001b[0;34m\u001b[0m\u001b[0;34m\u001b[0m\u001b[0m\n\u001b[0m",
            "\u001b[0;31mIndexError\u001b[0m: list index out of range"
          ]
        }
      ]
    },
    {
      "cell_type": "markdown",
      "metadata": {
        "id": "DmodGbmAvSOS",
        "colab_type": "text"
      },
      "source": [
        "### 오류 예외 처리 기법"
      ]
    },
    {
      "cell_type": "markdown",
      "metadata": {
        "id": "O899Zxy-vYFs",
        "colab_type": "text"
      },
      "source": [
        "#### try ... except 문"
      ]
    },
    {
      "cell_type": "code",
      "metadata": {
        "id": "XSsbmAiLuQYm",
        "colab_type": "code",
        "colab": {}
      },
      "source": [
        "print(\"오류 예외 처리 기법\")\n",
        "#######################################\n",
        "# 유연한 프로그래밍을 위한 오류 처리 기법\n",
        "#######################################\n",
        "#\n",
        "# 1. try, except문\n",
        "#\n",
        "# try, except문의 기본 구조\n",
        "'''\n",
        "try:\n",
        "    ...\n",
        "except [발생 오류[as 오류 메시지 변수]]:\n",
        "    ...\n",
        "'''\n",
        "# try 블록 수행 중 오류가 발생하면 except 블록이 수행된다. \n",
        "# 하지만 try 블록에서 오류가 발생하지 않는다면 \n",
        "# except 블록은 수행되지 않는다."
      ],
      "execution_count": 0,
      "outputs": []
    },
    {
      "cell_type": "code",
      "metadata": {
        "id": "D4cDJHsRvmLV",
        "colab_type": "code",
        "outputId": "a853e752-7edf-4e1a-cab8-96cad549398c",
        "colab": {
          "base_uri": "https://localhost:8080/",
          "height": 34
        }
      },
      "source": [
        "# ZeroDivisionError:\n",
        "try:\n",
        "    4 / 0 # indent \n",
        "except ZeroDivisionError as e: # ZeroDivisionError : 오류 객체명 # e : 오류 객체를 받는 변수\n",
        "    print(e)\n",
        "\n",
        "# division by zero"
      ],
      "execution_count": 0,
      "outputs": [
        {
          "output_type": "stream",
          "text": [
            "division by zero\n"
          ],
          "name": "stdout"
        }
      ]
    },
    {
      "cell_type": "code",
      "metadata": {
        "id": "ySAajQO2vrCA",
        "colab_type": "code",
        "outputId": "76a66c9a-52dd-4775-c2a5-69a3ce7067ec",
        "colab": {
          "base_uri": "https://localhost:8080/",
          "height": 34
        }
      },
      "source": [
        "# IndexError:\n",
        "a = [1, 2, 3]\n",
        "try:\n",
        "    a[3]\n",
        "except IndexError as e: # IndexError : 오류 객체명\n",
        "    print(e)\n",
        "\n",
        "# list index out of range"
      ],
      "execution_count": 0,
      "outputs": [
        {
          "output_type": "stream",
          "text": [
            "list index out of range\n"
          ],
          "name": "stdout"
        }
      ]
    },
    {
      "cell_type": "markdown",
      "metadata": {
        "id": "ONw668wEwMfP",
        "colab_type": "text"
      },
      "source": [
        "#### try ... except ... finally 문"
      ]
    },
    {
      "cell_type": "code",
      "metadata": {
        "id": "qEx-2_bzw9pC",
        "colab_type": "code",
        "outputId": "e28f6bec-9109-4060-8f04-f004c9e115b8",
        "colab": {
          "base_uri": "https://localhost:8080/",
          "height": 162
        }
      },
      "source": [
        "f = open('foo.txt', 'r')"
      ],
      "execution_count": 0,
      "outputs": [
        {
          "output_type": "error",
          "ename": "FileNotFoundError",
          "evalue": "ignored",
          "traceback": [
            "\u001b[0;31m---------------------------------------------------------------------------\u001b[0m",
            "\u001b[0;31mFileNotFoundError\u001b[0m                         Traceback (most recent call last)",
            "\u001b[0;32m<ipython-input-15-cc05ccee3540>\u001b[0m in \u001b[0;36m<module>\u001b[0;34m()\u001b[0m\n\u001b[0;32m----> 1\u001b[0;31m \u001b[0mf\u001b[0m \u001b[0;34m=\u001b[0m \u001b[0mopen\u001b[0m\u001b[0;34m(\u001b[0m\u001b[0;34m'foo.txt'\u001b[0m\u001b[0;34m,\u001b[0m \u001b[0;34m'r'\u001b[0m\u001b[0;34m)\u001b[0m\u001b[0;34m\u001b[0m\u001b[0;34m\u001b[0m\u001b[0m\n\u001b[0m",
            "\u001b[0;31mFileNotFoundError\u001b[0m: [Errno 2] No such file or directory: 'foo.txt'"
          ]
        }
      ]
    },
    {
      "cell_type": "code",
      "metadata": {
        "id": "ApNRZHY4v_4M",
        "colab_type": "code",
        "colab": {}
      },
      "source": [
        "#\n",
        "# 2. try, finally문\n",
        "#\n",
        "# try문에는 finally절을 사용할 수 있다. \n",
        "# finally절은 try문 수행 도중 예외 발생 여부에 상관없이 항상 수행\n",
        "#\n",
        "\n",
        "try:\n",
        "    f = open('goo.txt', 'w') # 파일 생성 모드\n",
        "    # 무언가를 수행한다.\n",
        "\n",
        "finally:\n",
        "    f.close() # 열린 파일은 항상 닫아주어야 함"
      ],
      "execution_count": 0,
      "outputs": []
    },
    {
      "cell_type": "markdown",
      "metadata": {
        "id": "y58X1scXxnJ_",
        "colab_type": "text"
      },
      "source": [
        "### 여러개의 오류처리하기"
      ]
    },
    {
      "cell_type": "code",
      "metadata": {
        "id": "0UMPNkhUwTps",
        "colab_type": "code",
        "outputId": "859a4eef-18f8-4d7c-eec6-516c86eeccf8",
        "colab": {
          "base_uri": "https://localhost:8080/",
          "height": 34
        }
      },
      "source": [
        "#\n",
        "# 3. 여러개의 오류처리하기\n",
        "#\n",
        "# try문 안에서 여러 개의 오류를 처리하는 방법\n",
        "#\n",
        "'''\n",
        "try:\n",
        "    ...\n",
        "except 발생 오류1:\n",
        "   ... \n",
        "except 발생 오류2:\n",
        "   ...\n",
        "'''\n",
        "\n",
        "try:\n",
        "    a = [1,2]\n",
        "    print(a[2])\n",
        "    4/0\n",
        "except ZeroDivisionError:\n",
        "    print(\"0으로 나눌 수 없습니다.\")\n",
        "except IndexError:\n",
        "    print(\"인덱싱 할 수 없습니다.\") # 먼저 발생한 오류 처리 후 종료됨"
      ],
      "execution_count": 0,
      "outputs": [
        {
          "output_type": "stream",
          "text": [
            "인덱싱 할 수 없습니다.\n"
          ],
          "name": "stdout"
        }
      ]
    },
    {
      "cell_type": "code",
      "metadata": {
        "id": "i4e4hSRMxuCC",
        "colab_type": "code",
        "outputId": "5d8866f4-fd04-415b-bca4-bd4d47d263f7",
        "colab": {
          "base_uri": "https://localhost:8080/",
          "height": 34
        }
      },
      "source": [
        "# 인덱싱 오류가 먼저 발생했으므로 \n",
        "# 4/0으로 발생되는 ZeroDivisionError 오류는 발생하지 않았다.\n",
        "\n",
        "try:\n",
        "    a = [1,2]\n",
        "    print(a[3])\n",
        "    4/0\n",
        "except ZeroDivisionError as e:\n",
        "    print(e)\n",
        "except IndexError as e:\n",
        "    print(e)\n",
        "\n",
        "# print default error message"
      ],
      "execution_count": 0,
      "outputs": [
        {
          "output_type": "stream",
          "text": [
            "list index out of range\n"
          ],
          "name": "stdout"
        }
      ]
    },
    {
      "cell_type": "markdown",
      "metadata": {
        "id": "HEq7ndmmyz2v",
        "colab_type": "text"
      },
      "source": [
        "### 2개 이상의 오류를 동시에 처리"
      ]
    },
    {
      "cell_type": "code",
      "metadata": {
        "id": "OTT8G-esyKqV",
        "colab_type": "code",
        "outputId": "cf239835-6e54-459d-aa58-6441dbf0c7c4",
        "colab": {
          "base_uri": "https://localhost:8080/",
          "height": 34
        }
      },
      "source": [
        "# 2개 이상의 오류를 동시에 처리\n",
        "try:\n",
        "    a = [1,2]\n",
        "    print(a[3])\n",
        "    4/0\n",
        "except (ZeroDivisionError, IndexError) as e:\n",
        "    print(e)"
      ],
      "execution_count": 0,
      "outputs": [
        {
          "output_type": "stream",
          "text": [
            "list index out of range\n"
          ],
          "name": "stdout"
        }
      ]
    },
    {
      "cell_type": "markdown",
      "metadata": {
        "id": "c7kgYcJVyw4S",
        "colab_type": "text"
      },
      "source": [
        "### 오류 회피하기"
      ]
    },
    {
      "cell_type": "code",
      "metadata": {
        "id": "DAQYIbUWyvSa",
        "colab_type": "code",
        "outputId": "20847238-4568-4d57-bf3d-e5413c3174ac",
        "colab": {
          "base_uri": "https://localhost:8080/",
          "height": 34
        }
      },
      "source": [
        "print(\"오류 회피하기\")\n",
        "#######################################\n",
        "# 특정 오류가 발생할 경우 그냥 통과시키는 방법.\n",
        "#######################################\n",
        "#\n",
        "try:\n",
        "    f = open(\"나없는파일\", 'r')\n",
        "except FileNotFoundError:\n",
        "    pass # 오류 발생 시 pass"
      ],
      "execution_count": 0,
      "outputs": [
        {
          "output_type": "stream",
          "text": [
            "오류 회피하기\n"
          ],
          "name": "stdout"
        }
      ]
    },
    {
      "cell_type": "markdown",
      "metadata": {
        "id": "FcRxCgoPzBkX",
        "colab_type": "text"
      },
      "source": [
        "### 오류 일부러 발생시키기"
      ]
    },
    {
      "cell_type": "code",
      "metadata": {
        "id": "Pu5_zXEzy3Ot",
        "colab_type": "code",
        "outputId": "e9ab598d-19af-4359-ab57-154c0289be26",
        "colab": {
          "base_uri": "https://localhost:8080/",
          "height": 332
        }
      },
      "source": [
        "print(\"오류 일부러 발생시키기\")\n",
        "#######################################\n",
        "# 일부러 발생시키는 오류\n",
        "# raise 오류 \n",
        "#######################################\n",
        "#\n",
        "# Bird 클래스를 상속받는 자식 클래스는 반드시 \n",
        "# fly라는 함수를 구현하도록 만들고 싶은 경우\n",
        "#\n",
        "class Bird:\n",
        "    def fly(self):\n",
        "        raise NotImplementedError\n",
        "\n",
        "# Bird 클래스를 상속받는 자식 클래스는 \n",
        "# 반드시 fly 함수를 구현해야 한다\n",
        "\n",
        "class Eagle(Bird):\n",
        "    pass\n",
        "\n",
        "eagle = Eagle()\n",
        "eagle.fly()\n",
        "\n",
        "# NotImplementedError"
      ],
      "execution_count": 0,
      "outputs": [
        {
          "output_type": "stream",
          "text": [
            "오류 일부러 발생시키기\n"
          ],
          "name": "stdout"
        },
        {
          "output_type": "error",
          "ename": "NotImplementedError",
          "evalue": "ignored",
          "traceback": [
            "\u001b[0;31m---------------------------------------------------------------------------\u001b[0m",
            "\u001b[0;31mNotImplementedError\u001b[0m                       Traceback (most recent call last)",
            "\u001b[0;32m<ipython-input-21-573248b41555>\u001b[0m in \u001b[0;36m<module>\u001b[0;34m()\u001b[0m\n\u001b[1;32m     19\u001b[0m \u001b[0;34m\u001b[0m\u001b[0m\n\u001b[1;32m     20\u001b[0m \u001b[0meagle\u001b[0m \u001b[0;34m=\u001b[0m \u001b[0mEagle\u001b[0m\u001b[0;34m(\u001b[0m\u001b[0;34m)\u001b[0m\u001b[0;34m\u001b[0m\u001b[0;34m\u001b[0m\u001b[0m\n\u001b[0;32m---> 21\u001b[0;31m \u001b[0meagle\u001b[0m\u001b[0;34m.\u001b[0m\u001b[0mfly\u001b[0m\u001b[0;34m(\u001b[0m\u001b[0;34m)\u001b[0m\u001b[0;34m\u001b[0m\u001b[0;34m\u001b[0m\u001b[0m\n\u001b[0m",
            "\u001b[0;32m<ipython-input-21-573248b41555>\u001b[0m in \u001b[0;36mfly\u001b[0;34m(self)\u001b[0m\n\u001b[1;32m     10\u001b[0m \u001b[0;32mclass\u001b[0m \u001b[0mBird\u001b[0m\u001b[0;34m:\u001b[0m\u001b[0;34m\u001b[0m\u001b[0;34m\u001b[0m\u001b[0m\n\u001b[1;32m     11\u001b[0m     \u001b[0;32mdef\u001b[0m \u001b[0mfly\u001b[0m\u001b[0;34m(\u001b[0m\u001b[0mself\u001b[0m\u001b[0;34m)\u001b[0m\u001b[0;34m:\u001b[0m\u001b[0;34m\u001b[0m\u001b[0;34m\u001b[0m\u001b[0m\n\u001b[0;32m---> 12\u001b[0;31m         \u001b[0;32mraise\u001b[0m \u001b[0mNotImplementedError\u001b[0m\u001b[0;34m\u001b[0m\u001b[0;34m\u001b[0m\u001b[0m\n\u001b[0m\u001b[1;32m     13\u001b[0m \u001b[0;34m\u001b[0m\u001b[0m\n\u001b[1;32m     14\u001b[0m \u001b[0;31m# Bird 클래스를 상속받는 자식 클래스는\u001b[0m\u001b[0;34m\u001b[0m\u001b[0;34m\u001b[0m\u001b[0;34m\u001b[0m\u001b[0m\n",
            "\u001b[0;31mNotImplementedError\u001b[0m: "
          ]
        }
      ]
    },
    {
      "cell_type": "code",
      "metadata": {
        "id": "2Y8yyIn6zO85",
        "colab_type": "code",
        "outputId": "e1cca8ac-3b02-44f9-9a60-d2809d8ce296",
        "colab": {
          "base_uri": "https://localhost:8080/",
          "height": 34
        }
      },
      "source": [
        "# NotImplementedError가 발생되지 않게 하려면 \n",
        "# 다음과 같이 Eagle 클래스에 fly 함수를 반드시 구현\n",
        "\n",
        "class Eagle(Bird):\n",
        "    def fly(self): # fly 함수 재정의\n",
        "        print(\"Eagle flys very fast\")\n",
        "\n",
        "eagle = Eagle()\n",
        "eagle.fly()"
      ],
      "execution_count": 0,
      "outputs": [
        {
          "output_type": "stream",
          "text": [
            "Eagle flys very fast\n"
          ],
          "name": "stdout"
        }
      ]
    },
    {
      "cell_type": "markdown",
      "metadata": {
        "id": "QdUOusy70UZT",
        "colab_type": "text"
      },
      "source": [
        "## 사용자 정의 예외"
      ]
    },
    {
      "cell_type": "code",
      "metadata": {
        "id": "RFXgqRXhz39O",
        "colab_type": "code",
        "outputId": "8683f3b9-9eb9-4f0e-f2d8-c5a5e29a084d",
        "colab": {
          "base_uri": "https://localhost:8080/",
          "height": 85
        }
      },
      "source": [
        "print(\"예외 만들기: 사용자 정의 예외\")\n",
        "#######################################\n",
        "# 사용자가 정의해서 만들고 발생시키는 오류\n",
        "# 파이썬 내장 클래스인 Exception 클래스를 상속하여 만든다.\n",
        "# raise User_Error() \n",
        "#######################################\n",
        "#\n",
        "class MyError(Exception): # Exception : 최상위 클래스\n",
        "    pass\n",
        "\n",
        "\n",
        "def say_nick(nick):\n",
        "    if nick == '바보':\n",
        "        raise MyError()\n",
        "    print(nick)\n",
        "\n",
        "#######################################\n",
        "print(\"사용자 정의 예외 처리\")\n",
        "#######################################\n",
        "try:\n",
        "    say_nick(\"천사\")\n",
        "    say_nick(\"바보\")\n",
        "except MyError:\n",
        "    print(\"허용되지 않는 별명입니다.\")"
      ],
      "execution_count": 0,
      "outputs": [
        {
          "output_type": "stream",
          "text": [
            "예외 만들기: 사용자 정의 예외\n",
            "사용자 정의 예외 처리\n",
            "천사\n",
            "허용되지 않는 별명입니다.\n"
          ],
          "name": "stdout"
        }
      ]
    },
    {
      "cell_type": "markdown",
      "metadata": {
        "id": "plVbjtmr1IUI",
        "colab_type": "text"
      },
      "source": [
        "### 사용자 정의 예외 메시지 출력"
      ]
    },
    {
      "cell_type": "code",
      "metadata": {
        "id": "jiWjvS6n0F45",
        "colab_type": "code",
        "outputId": "eb1e1a9d-decf-4b31-ac36-fada55bc2485",
        "colab": {
          "base_uri": "https://localhost:8080/",
          "height": 68
        }
      },
      "source": [
        "#######################################\n",
        "print(\"사용자 정의 예외 메시지 출력\")\n",
        "# 오류 메시지: __str__ 메서드를 구현\n",
        "#######################################\n",
        "class MyError(Exception):\n",
        "    def __str__(self):\n",
        "        return \"허용되지 않는 별명입니다.\" # default Error message \n",
        "\n",
        "# \n",
        "try:\n",
        "    say_nick(\"천사\")\n",
        "    say_nick(\"바보\")\n",
        "except MyError as e:\n",
        "    print(e)"
      ],
      "execution_count": 0,
      "outputs": [
        {
          "output_type": "stream",
          "text": [
            "사용자 정의 예외 메시지 출력\n",
            "천사\n",
            "허용되지 않는 별명입니다.\n"
          ],
          "name": "stdout"
        }
      ]
    },
    {
      "cell_type": "markdown",
      "metadata": {
        "id": "fPcu8oRRlxm8",
        "colab_type": "text"
      },
      "source": [
        "## 내장 함수"
      ]
    },
    {
      "cell_type": "markdown",
      "metadata": {
        "id": "InFiozTjVOrv",
        "colab_type": "text"
      },
      "source": [
        "- 내장 함수\n",
        "   - abs\n",
        "   - all, any\n",
        "   - chr\n",
        "   - dir\n",
        "   - divmod\n",
        "   - enumerate\n",
        "   - eval\n",
        "   - filter\n",
        "   - hex, oct\n",
        "   - id\n",
        "   - input\n",
        "   - int\n",
        "   - isinstance\n",
        "   - len\n",
        "   - list\n",
        "   - map\n",
        "   - max, min\n",
        "   - open\n",
        "   - ord\n",
        "   - pow\n",
        "   - range\n",
        "   - round\n",
        "   - sorted\n",
        "   - str\n",
        "   - sum\n",
        "   - tuple\n",
        "   - type\n",
        "   - zip"
      ]
    },
    {
      "cell_type": "code",
      "metadata": {
        "id": "-1H6FtDIVauP",
        "colab_type": "code",
        "outputId": "68aa5220-f784-4082-cb4b-81120ea76a67",
        "colab": {
          "base_uri": "https://localhost:8080/",
          "height": 34
        }
      },
      "source": [
        "# ch5_05_internal_functions.py\n",
        "#\n",
        "print(\"내장 함수\")\n",
        "#######################################\n",
        "#\n",
        "# 파이썬 내장 함수는 미리 준비된 내부 모듈\n",
        "# 외부 모듈과 달리 import가 필요하지 않다.\n",
        "#\n",
        "#######################################\n",
        "#"
      ],
      "execution_count": 0,
      "outputs": [
        {
          "output_type": "stream",
          "text": [
            "내장 함수\n"
          ],
          "name": "stdout"
        }
      ]
    },
    {
      "cell_type": "code",
      "metadata": {
        "id": "l7lh9XD5mC5S",
        "colab_type": "code",
        "outputId": "669be38d-1e3a-4e74-a5ad-90b0a368ecd8",
        "colab": {
          "base_uri": "https://localhost:8080/",
          "height": 51
        }
      },
      "source": [
        "print(\"abs()\")\n",
        "#######################################\n",
        "# abs(x)는 어떤 숫자를 입력받았을 때,\n",
        "# 그 숫자의 절댓값을 돌려주는 함수\n",
        "#######################################\n",
        "#\n",
        "abs(3), abs(-3), abs(-1.2) # 결괏값은 하나의 튜플로 표시"
      ],
      "execution_count": 0,
      "outputs": [
        {
          "output_type": "stream",
          "text": [
            "abs()\n"
          ],
          "name": "stdout"
        },
        {
          "output_type": "execute_result",
          "data": {
            "text/plain": [
              "(3, 3, 1.2)"
            ]
          },
          "metadata": {
            "tags": []
          },
          "execution_count": 2
        }
      ]
    },
    {
      "cell_type": "code",
      "metadata": {
        "id": "RHryVbI-mKxB",
        "colab_type": "code",
        "outputId": "2dada416-7559-438e-eda4-bea666a9e391",
        "colab": {
          "base_uri": "https://localhost:8080/",
          "height": 51
        }
      },
      "source": [
        "print(\"all()\")\n",
        "###########################################################\n",
        "# all(x)는 반복 가능한(iterable) 자료형 x를 입력 인수로 받으며\n",
        "# 이 x가 모두 참이면 True, 거짓이 하나라도 있으면 False를 돌려준다.\n",
        "###########################################################\n",
        "#\n",
        "# all([1, 2, 3])\n",
        "all([0, 1, 2, 3]) # 0이 존재하기 때문에 False\n",
        "\n",
        "# 참고 # all() 과 bool()의 차이 \n",
        "# bool([0, 1, 2, 3]), bool([0]), bool((0)), bool((0,)) # bool([x]) / bool((x))"
      ],
      "execution_count": 0,
      "outputs": [
        {
          "output_type": "stream",
          "text": [
            "all()\n"
          ],
          "name": "stdout"
        },
        {
          "output_type": "execute_result",
          "data": {
            "text/plain": [
              "False"
            ]
          },
          "metadata": {
            "tags": []
          },
          "execution_count": 7
        }
      ]
    },
    {
      "cell_type": "code",
      "metadata": {
        "id": "UbtsKVcOmWUo",
        "colab_type": "code",
        "outputId": "154eb591-5faa-49d5-c5a5-d38ebcb9c695",
        "colab": {
          "base_uri": "https://localhost:8080/",
          "height": 51
        }
      },
      "source": [
        "print(\"any()\")\n",
        "###########################################################\n",
        "# any(x)는 x 중 하나라도 참이 있으면 True를 돌려주고,\n",
        "# x가 모두 거짓일 때에만 False를 돌려준다. all(x)의 반대이다.\n",
        "###########################################################\n",
        "#\n",
        "# any([0, 1, 2, 3]), any([0, 1], 3) # all 또는 any 함수는 하나의 데이터 구조만 받아들인다 \n",
        "\n",
        "any([0, \"\"]) #, 1)"
      ],
      "execution_count": 0,
      "outputs": [
        {
          "output_type": "stream",
          "text": [
            "any()\n"
          ],
          "name": "stdout"
        },
        {
          "output_type": "execute_result",
          "data": {
            "text/plain": [
              "False"
            ]
          },
          "metadata": {
            "tags": []
          },
          "execution_count": 4
        }
      ]
    },
    {
      "cell_type": "code",
      "metadata": {
        "id": "xF3DVs2jm96p",
        "colab_type": "code",
        "outputId": "003c31e9-2fcc-4e9d-8bae-e4fff344ec86",
        "colab": {
          "base_uri": "https://localhost:8080/",
          "height": 51
        }
      },
      "source": [
        "print(\"chr()\")\n",
        "###########################################################\n",
        "# chr(i)는 아스키(ASCII) 코드 값을 입력받아\n",
        "# 그 코드에 해당하는 문자를 출력하는 함수이다.\n",
        "###########################################################\n",
        "#\n",
        "chr(97), chr(48), chr(70)"
      ],
      "execution_count": 0,
      "outputs": [
        {
          "output_type": "stream",
          "text": [
            "chr()\n"
          ],
          "name": "stdout"
        },
        {
          "output_type": "execute_result",
          "data": {
            "text/plain": [
              "('a', '0', 'F')"
            ]
          },
          "metadata": {
            "tags": []
          },
          "execution_count": 17
        }
      ]
    },
    {
      "cell_type": "code",
      "metadata": {
        "id": "J96P59cmnoIp",
        "colab_type": "code",
        "outputId": "f6f495ed-e271-4c0e-d95e-364c02136439",
        "colab": {
          "base_uri": "https://localhost:8080/",
          "height": 714
        }
      },
      "source": [
        "print(\"dir()\")\n",
        "###########################################################\n",
        "# dir은 객체가 자체적으로 가지고 있는 변수나 함수를 보여 준다.\n",
        "###########################################################\n",
        "#\n",
        "dir([1, 2, 3])  # list object # 리스트 객체에 내장되어 있는 함수 출력\n",
        "\n",
        "dir({\"1\": \"a\"})  # dict object # 딕셔너리 객체에 내장되어 있는 함수 출력\n",
        "# type({\"1\": \"a\"})"
      ],
      "execution_count": 0,
      "outputs": [
        {
          "output_type": "stream",
          "text": [
            "dir()\n"
          ],
          "name": "stdout"
        },
        {
          "output_type": "execute_result",
          "data": {
            "text/plain": [
              "['__class__',\n",
              " '__contains__',\n",
              " '__delattr__',\n",
              " '__delitem__',\n",
              " '__dir__',\n",
              " '__doc__',\n",
              " '__eq__',\n",
              " '__format__',\n",
              " '__ge__',\n",
              " '__getattribute__',\n",
              " '__getitem__',\n",
              " '__gt__',\n",
              " '__hash__',\n",
              " '__init__',\n",
              " '__init_subclass__',\n",
              " '__iter__',\n",
              " '__le__',\n",
              " '__len__',\n",
              " '__lt__',\n",
              " '__ne__',\n",
              " '__new__',\n",
              " '__reduce__',\n",
              " '__reduce_ex__',\n",
              " '__repr__',\n",
              " '__setattr__',\n",
              " '__setitem__',\n",
              " '__sizeof__',\n",
              " '__str__',\n",
              " '__subclasshook__',\n",
              " 'clear',\n",
              " 'copy',\n",
              " 'fromkeys',\n",
              " 'get',\n",
              " 'items',\n",
              " 'keys',\n",
              " 'pop',\n",
              " 'popitem',\n",
              " 'setdefault',\n",
              " 'update',\n",
              " 'values']"
            ]
          },
          "metadata": {
            "tags": []
          },
          "execution_count": 21
        }
      ]
    },
    {
      "cell_type": "code",
      "metadata": {
        "id": "iJIk3ysKnwmb",
        "colab_type": "code",
        "outputId": "2a3d4179-52f2-4c94-c578-3ffe97548cd8",
        "colab": {
          "base_uri": "https://localhost:8080/",
          "height": 51
        }
      },
      "source": [
        "print(\"divmod()\")\n",
        "###########################################################\n",
        "# divmod(a, b)는 2개의 숫자를 입력으로 받는다.\n",
        "# 그리고 a를 b로 나눈 몫과 나머지를 튜플 형태로 돌려주는 함수\n",
        "###########################################################\n",
        "#\n",
        "divmod(7, 3)  # 결과값을 tuple로 반환 # (몫, 나머지)"
      ],
      "execution_count": 0,
      "outputs": [
        {
          "output_type": "stream",
          "text": [
            "divmod()\n"
          ],
          "name": "stdout"
        },
        {
          "output_type": "execute_result",
          "data": {
            "text/plain": [
              "(2, 1)"
            ]
          },
          "metadata": {
            "tags": []
          },
          "execution_count": 22
        }
      ]
    },
    {
      "cell_type": "code",
      "metadata": {
        "id": "FcDkW-jKoOmj",
        "colab_type": "code",
        "outputId": "39d655c6-9288-42b5-afb4-e35640462169",
        "colab": {
          "base_uri": "https://localhost:8080/",
          "height": 85
        }
      },
      "source": [
        "print(\"enumerate()\")\n",
        "###########################################################\n",
        "# enumerate는 \"열거하다\"라는 뜻이다.\n",
        "# 이 함수는 순서가 있는 자료형(리스트, 튜플, 문자열)을 입력으로\n",
        "# 받아 인덱스 값을 포함하는 enumerate 객체를 돌려준다.\n",
        "###########################################################\n",
        "#\n",
        "for i, name in enumerate([\"body\", \"foo\", \"bar\"]):\n",
        "    print(i, name)"
      ],
      "execution_count": 0,
      "outputs": [
        {
          "output_type": "stream",
          "text": [
            "enumerate()\n",
            "0 body\n",
            "1 foo\n",
            "2 bar\n"
          ],
          "name": "stdout"
        }
      ]
    },
    {
      "cell_type": "code",
      "metadata": {
        "id": "JA1FrnqDoYoO",
        "colab_type": "code",
        "outputId": "4a6fc36c-42dc-4093-8e73-478190dfe3b6",
        "colab": {
          "base_uri": "https://localhost:8080/",
          "height": 51
        }
      },
      "source": [
        "print(\"eval()\")\n",
        "###########################################################\n",
        "# eval(expression )은 실행 가능한 문자열(1+2, 'hi' + 'a' 같은 것)을\n",
        "# 입력으로 받아 문자열을 실행한 결괏값을 돌려주는 함수\n",
        "###########################################################\n",
        "#\n",
        "eval(\"1+2\"), eval(\"'hc' + 'it'\"), eval(\"divmod(4, 3)\")"
      ],
      "execution_count": 0,
      "outputs": [
        {
          "output_type": "stream",
          "text": [
            "eval()\n"
          ],
          "name": "stdout"
        },
        {
          "output_type": "execute_result",
          "data": {
            "text/plain": [
              "(3, 'hcit', (1, 1))"
            ]
          },
          "metadata": {
            "tags": []
          },
          "execution_count": 28
        }
      ]
    },
    {
      "cell_type": "markdown",
      "metadata": {
        "id": "glcVB7bSo0yI",
        "colab_type": "text"
      },
      "source": [
        "### filter"
      ]
    },
    {
      "cell_type": "code",
      "metadata": {
        "id": "-ppyIvYDomXm",
        "colab_type": "code",
        "outputId": "7373fd8f-102d-4dbc-e83e-6fa2e5b58b6c",
        "colab": {
          "base_uri": "https://localhost:8080/",
          "height": 51
        }
      },
      "source": [
        "print(\"filter()\")  # *** 데이터 처리에 사용\n",
        "###########################################################\n",
        "# filter 함수는 첫 번째 인수로 함수 이름을,\n",
        "# 두 번째 인수로 그 함수에 차례로 들어갈 반복 가능한 자료형을 받는다.\n",
        "# 그리고 두 번째 인수인 반복 가능한 자료형 요소가 첫 번째 인수인\n",
        "# 함수에 입력되었을 때 반환 값이 참인 것만 묶어서(걸러 내서) 돌려준다.\n",
        "###########################################################\n",
        "#\n",
        "# positive.py \n",
        "def positive(l):\n",
        "    result = []\n",
        "    for i in l:\n",
        "        if i > 0:\n",
        "            result.append(i)\n",
        "    return result\n",
        "\n",
        "\n",
        "print(positive([1, -3, 2, 0, -5, 6])) # 0보다 큰 값만 필터링"
      ],
      "execution_count": 0,
      "outputs": [
        {
          "output_type": "stream",
          "text": [
            "filter()\n",
            "[1, 2, 6]\n"
          ],
          "name": "stdout"
        }
      ]
    },
    {
      "cell_type": "code",
      "metadata": {
        "id": "5HXqRpZ1pBcQ",
        "colab_type": "code",
        "outputId": "31892652-39d5-41f6-bada-1bf55155ba64",
        "colab": {
          "base_uri": "https://localhost:8080/",
          "height": 34
        }
      },
      "source": [
        "# filter() 함수 이용\n",
        "# filter1.py\n",
        "def positive(x):\n",
        "    return x > 0 # 0보다 큰 값만 return\n",
        "\n",
        "\n",
        "list(filter(positive, [1, -3, 2, 0, -5, 6]))"
      ],
      "execution_count": 0,
      "outputs": [
        {
          "output_type": "execute_result",
          "data": {
            "text/plain": [
              "[1, 2, 6]"
            ]
          },
          "metadata": {
            "tags": []
          },
          "execution_count": 33
        }
      ]
    },
    {
      "cell_type": "markdown",
      "metadata": {
        "id": "5-hiwfEfppRp",
        "colab_type": "text"
      },
      "source": [
        "### filter by lambda function"
      ]
    },
    {
      "cell_type": "code",
      "metadata": {
        "id": "XWYlqE96pUQZ",
        "colab_type": "code",
        "outputId": "c0059cc4-4719-4caf-da1d-f055c6021ad5",
        "colab": {
          "base_uri": "https://localhost:8080/",
          "height": 34
        }
      },
      "source": [
        "# lambda를 사용하면 더욱 간편하게 코드를 작성할 수 있다.\n",
        "# ** 기말고사 **\n",
        "\n",
        "list(filter(lambda x: x > 0, [1, -3, 2, 0, -5, 6]))\n",
        "###########################################################"
      ],
      "execution_count": 0,
      "outputs": [
        {
          "output_type": "execute_result",
          "data": {
            "text/plain": [
              "[1, 2, 6]"
            ]
          },
          "metadata": {
            "tags": []
          },
          "execution_count": 34
        }
      ]
    },
    {
      "cell_type": "code",
      "metadata": {
        "id": "j-294BSXpud5",
        "colab_type": "code",
        "colab": {}
      },
      "source": [
        "print(\"hex()\")\n",
        "###########################################################\n",
        "# hex(x)는 정수 값을 입력받아 16진수(hexadecimal)로\n",
        "# 변환하여 돌려주는 함수\n",
        "###########################################################\n",
        "#\n",
        "hex(10)\n",
        "hex(234)\n",
        "\n",
        "\n",
        "print(\"id()\")\n",
        "###########################################################\n",
        "# d(object)는 객체를 입력받아 객체의 고유 주소 값(레퍼런스)을 돌려주는 함수\n",
        "###########################################################\n",
        "#\n",
        "a = 3\n",
        "id(3)\n",
        "id(a)\n",
        "b = a\n",
        "id(b)\n",
        "id(4)  # different address\n",
        "\n",
        "\n",
        "print(\"input()\")\n",
        "###########################################################\n",
        "# input([prompt])은 사용자 입력을 받는 함수이다.\n",
        "# 매개변수로 문자열을 주면, 그 문자열은 프롬프트가 된다.\n",
        "###########################################################\n",
        "#\n",
        "a = input()\n",
        "b = input(\"Enter: \")\n",
        "b\n",
        "\n",
        "\n",
        "print(\"int()\")\n",
        "###########################################################\n",
        "# int(x)는 문자열 형태의 숫자나 소수점이 있는 숫자 등을\n",
        "# 정수 형태로 돌려주는 함수\n",
        "###########################################################\n",
        "#\n",
        "int(3)\n",
        "int(\"3\")\n",
        "int(3.14)"
      ],
      "execution_count": 0,
      "outputs": []
    },
    {
      "cell_type": "code",
      "metadata": {
        "id": "26714ktOqdMD",
        "colab_type": "code",
        "outputId": "00b34a54-91ef-4d48-ad09-8a50bd9c6f76",
        "colab": {
          "base_uri": "https://localhost:8080/",
          "height": 34
        }
      },
      "source": [
        "# int(x, radix)는 radix 진수로 표현된 문자열 x를 10진수로 변환\n",
        "# int(\"11\", 2)\n",
        "# int(11, 2)  # TypeError: int() can't convert non-string with explicit base\n",
        "\n",
        "int(\"F\", 16)"
      ],
      "execution_count": 0,
      "outputs": [
        {
          "output_type": "execute_result",
          "data": {
            "text/plain": [
              "15"
            ]
          },
          "metadata": {
            "tags": []
          },
          "execution_count": 44
        }
      ]
    },
    {
      "cell_type": "code",
      "metadata": {
        "id": "7oki_I39qgA6",
        "colab_type": "code",
        "outputId": "f46e7ed1-c0b6-4a30-8f0a-351bd7c60a52",
        "colab": {
          "base_uri": "https://localhost:8080/",
          "height": 51
        }
      },
      "source": [
        "print(\"isinstance()\")\n",
        "###########################################################\n",
        "# isinstance(object, class )는 첫 번째 인수로 인스턴스,\n",
        "# 두 번째 인수로 클래스 이름을 받는다.\n",
        "# 입력으로 받은 인스턴스가 그 클래스의 인스턴스인지를 판단하여\n",
        "# 참이면 True, 거짓이면 False를 돌려준다.\n",
        "###########################################################\n",
        "#\n",
        "class Person:\n",
        "    pass\n",
        "\n",
        "\n",
        "a = Person()\n",
        "isinstance(a, Person)\n",
        "\n",
        "b = 3\n",
        "isinstance(b, Person)"
      ],
      "execution_count": 0,
      "outputs": [
        {
          "output_type": "stream",
          "text": [
            "isinstance()\n"
          ],
          "name": "stdout"
        },
        {
          "output_type": "execute_result",
          "data": {
            "text/plain": [
              "False"
            ]
          },
          "metadata": {
            "tags": []
          },
          "execution_count": 43
        }
      ]
    },
    {
      "cell_type": "code",
      "metadata": {
        "id": "X6FG5JYPqzYK",
        "colab_type": "code",
        "colab": {}
      },
      "source": [
        "print(\"len()\")\n",
        "###########################################################\n",
        "# len(s)은 입력값 s의 길이(요소의 전체 개수)를 돌려주는 함수이다.\n",
        "###########################################################\n",
        "#\n",
        "len(\"python\")\n",
        "len([1, 2, 3])\n",
        "len((1, \"a\"))\n",
        "len({a: 3})\n",
        "\n",
        "\n",
        "print(\"list()\")\n",
        "###########################################################\n",
        "# list(s)는 반복 가능한 자료형 s를 입력받아\n",
        "# 리스트로 만들어 돌려주는 함수\n",
        "###########################################################\n",
        "#\n",
        "list(\"python\")\n",
        "list((1, 2, 3))"
      ],
      "execution_count": 0,
      "outputs": []
    },
    {
      "cell_type": "markdown",
      "metadata": {
        "id": "_uCZnlTWrE6K",
        "colab_type": "text"
      },
      "source": [
        "### map 함수"
      ]
    },
    {
      "cell_type": "code",
      "metadata": {
        "id": "tUSE-uyXrDX2",
        "colab_type": "code",
        "outputId": "4ed3bf94-6ecd-49a9-e288-140af84b58b8",
        "colab": {
          "base_uri": "https://localhost:8080/",
          "height": 51
        }
      },
      "source": [
        "print(\"map()\")  # ***\n",
        "###########################################################\n",
        "# map(f, iterable)은 함수(f)와 반복 가능한(iterable) 자료형을\n",
        "# 입력으로 받는다.\n",
        "# map은 입력받은 자료형의 각 요소를 함수 f가 수행한 결과를\n",
        "# 묶어서 돌려주는 함수\n",
        "###########################################################\n",
        "#\n",
        "# two_times.py\n",
        "def two_times(numberList):\n",
        "    result = []\n",
        "    for number in numberList:\n",
        "        result.append(number * 2)\n",
        "    return result\n",
        "\n",
        "\n",
        "result = two_times([1, 2, 3, 4])\n",
        "print(result)"
      ],
      "execution_count": 0,
      "outputs": [
        {
          "output_type": "stream",
          "text": [
            "map()\n",
            "[2, 4, 6, 8]\n"
          ],
          "name": "stdout"
        }
      ]
    },
    {
      "cell_type": "code",
      "metadata": {
        "id": "WkOXH2UnrPig",
        "colab_type": "code",
        "outputId": "ad10fe1a-b044-4217-aa4c-a6bce7bb3e44",
        "colab": {
          "base_uri": "https://localhost:8080/",
          "height": 51
        }
      },
      "source": [
        "# map 함수를 사용\n",
        "def two_times(x):\n",
        "    return x * 2\n",
        "\n",
        "\n",
        "print(list(map(two_times, [1, 2, 3, 4])))\n",
        "\n",
        "\n",
        "# lambda를 사용\n",
        "list(map(lambda a: a * 2, [1, 2, 3, 4]))\n",
        "###########################################################"
      ],
      "execution_count": 0,
      "outputs": [
        {
          "output_type": "stream",
          "text": [
            "[2, 4, 6, 8]\n"
          ],
          "name": "stdout"
        },
        {
          "output_type": "execute_result",
          "data": {
            "text/plain": [
              "[2, 4, 6, 8]"
            ]
          },
          "metadata": {
            "tags": []
          },
          "execution_count": 49
        }
      ]
    },
    {
      "cell_type": "code",
      "metadata": {
        "id": "ZlKQhFAUrZi-",
        "colab_type": "code",
        "outputId": "968d6a51-9cf5-451d-b751-5ceff4912f55",
        "colab": {
          "base_uri": "https://localhost:8080/",
          "height": 51
        }
      },
      "source": [
        "print(\"max()\")\n",
        "###########################################################\n",
        "# max(iterable)는 인수로 반복 가능한 자료형을 입력받아\n",
        "# 그 최댓값을 돌려주는 함수\n",
        "###########################################################\n",
        "#\n",
        "# max([1, 2, 3])\n",
        "max(\"pythonZ\") # 알파벳 순서 : \"A ~ Z\" -> \"a ~ z\"\n",
        "# max(list(range(10)))\n",
        "max(range(10))"
      ],
      "execution_count": 0,
      "outputs": [
        {
          "output_type": "stream",
          "text": [
            "max()\n"
          ],
          "name": "stdout"
        },
        {
          "output_type": "execute_result",
          "data": {
            "text/plain": [
              "9"
            ]
          },
          "metadata": {
            "tags": []
          },
          "execution_count": 57
        }
      ]
    },
    {
      "cell_type": "code",
      "metadata": {
        "id": "W5GMQAHyr5De",
        "colab_type": "code",
        "colab": {}
      },
      "source": [
        "print(\"min()\")\n",
        "###########################################################\n",
        "# min(iterable)은 max 함수와 반대로, 인수로 반복 가능한\n",
        "# 자료형을 입력받아 그 최솟값을 돌려주는 함수\n",
        "###########################################################\n",
        "#\n",
        "min([1, 2, 3])\n",
        "min(\"python\")\n",
        "min(range(10))\n",
        "\n",
        "\n",
        "print(\"oct()\")\n",
        "###########################################################\n",
        "# oct(x)는 정수 형태의 숫자를 8진수 문자열로 바꾸어 돌려주는 함수\n",
        "###########################################################\n",
        "#\n",
        "oct(9)\n",
        "oct(12345)"
      ],
      "execution_count": 0,
      "outputs": []
    },
    {
      "cell_type": "code",
      "metadata": {
        "id": "2sV4rnOpsRfM",
        "colab_type": "code",
        "outputId": "f841af2e-6735-4ba9-c90f-32f13771947d",
        "colab": {
          "base_uri": "https://localhost:8080/",
          "height": 51
        }
      },
      "source": [
        "print(\"ord()\")\n",
        "###########################################################\n",
        "# ord(c)는 문자의 아스키 코드 값을 돌려주는 함수\n",
        "# ※ ord 함수는 chr 함수와 반대이다.\n",
        "###########################################################\n",
        "#\n",
        "ord(\"a\")  # chr(97)\n",
        "ord(\"0\")"
      ],
      "execution_count": 0,
      "outputs": [
        {
          "output_type": "stream",
          "text": [
            "ord()\n"
          ],
          "name": "stdout"
        },
        {
          "output_type": "execute_result",
          "data": {
            "text/plain": [
              "48"
            ]
          },
          "metadata": {
            "tags": []
          },
          "execution_count": 58
        }
      ]
    },
    {
      "cell_type": "code",
      "metadata": {
        "id": "_ddQJ9v6sTwi",
        "colab_type": "code",
        "outputId": "111b0a1b-bb91-43c9-f3bc-710196ad751d",
        "colab": {
          "base_uri": "https://localhost:8080/",
          "height": 68
        }
      },
      "source": [
        "print(\"pow()\")\n",
        "###########################################################\n",
        "# pow(x, y)는 x의 y 제곱한 결괏값을 돌려주는 함수\n",
        "###########################################################\n",
        "#\n",
        "pow(2, 4)  # 2**4\n",
        "pow(3, 4)  # 3**4\n",
        "\n",
        "print(\"range()\")  # ***\n",
        "###########################################################\n",
        "# range([start,] stop [,step] )는 for문과 함께 자주 사용하는 함수\n",
        "# 이 함수는 입력받은 숫자에 해당하는 범위 값을 반복 가능한 객체로\n",
        "# 만들어 돌려준다.\n",
        "###########################################################\n",
        "#\n",
        "# 인수가 하나일 경우\n",
        "list(range(5))\n",
        "\n",
        "# 인수가 2개일 경우\n",
        "list(range(5, 10))\n",
        "\n",
        "# 인수가 3개일 경우\n",
        "list(range(1, 10, 2))\n",
        "\n",
        "list(range(0, -10, -1))"
      ],
      "execution_count": 0,
      "outputs": [
        {
          "output_type": "stream",
          "text": [
            "pow()\n",
            "range()\n"
          ],
          "name": "stdout"
        },
        {
          "output_type": "execute_result",
          "data": {
            "text/plain": [
              "[0, -1, -2, -3, -4, -5, -6, -7, -8, -9]"
            ]
          },
          "metadata": {
            "tags": []
          },
          "execution_count": 61
        }
      ]
    },
    {
      "cell_type": "code",
      "metadata": {
        "id": "Rus8HLvEsgvZ",
        "colab_type": "code",
        "outputId": "c2ad656a-296a-4e94-faef-d93a0c2bd38c",
        "colab": {
          "base_uri": "https://localhost:8080/",
          "height": 51
        }
      },
      "source": [
        "print(\"round()\")\n",
        "###########################################################\n",
        "# round(number[, ndigits]) 함수는 숫자를 입력받아 반올림해 주는 함수\n",
        "# ※ [, ndigits]는 ndigits가 있을 수도 있고 없을 수도 있다는 의미이다.\n",
        "###########################################################\n",
        "#\n",
        "round(4.6), round(4.2)\n",
        "\n",
        "# 소수점 2자리까지만 반올림\n",
        "round(5.678, 2)"
      ],
      "execution_count": 0,
      "outputs": [
        {
          "output_type": "stream",
          "text": [
            "round()\n"
          ],
          "name": "stdout"
        },
        {
          "output_type": "execute_result",
          "data": {
            "text/plain": [
              "5.68"
            ]
          },
          "metadata": {
            "tags": []
          },
          "execution_count": 64
        }
      ]
    },
    {
      "cell_type": "markdown",
      "metadata": {
        "id": "fuDfnQdEsy6E",
        "colab_type": "text"
      },
      "source": [
        "### sorted()"
      ]
    },
    {
      "cell_type": "code",
      "metadata": {
        "id": "V3Vedj9Jso41",
        "colab_type": "code",
        "outputId": "80336fe8-7178-4713-cae7-b5d528919775",
        "colab": {
          "base_uri": "https://localhost:8080/",
          "height": 51
        }
      },
      "source": [
        "print(\"sorted()\")  # ***\n",
        "###########################################################\n",
        "# sorted(iterable) 함수는 입력값을 정렬한 후\n",
        "# 그 결과를 리스트로 돌려주는 함수\n",
        "# 'reverse' 속성으로 정렬순서 반전\n",
        "###########################################################\n",
        "#\n",
        "sorted([3, 1, 2]), sorted([3, 1, 2], reverse=True)\n",
        "\n",
        "sorted([\"a\", \"c\", \"b\"]), sorted([\"a\", \"c\", \"b\"], reverse=True)\n",
        "sorted([\"a\", \"c\", \"b\", \"A\", \"Z\"])\n",
        "sorted(\"zero\"), sorted((3, 2, 1))  # list로 반환!!!\n",
        "###########################################################"
      ],
      "execution_count": 0,
      "outputs": [
        {
          "output_type": "stream",
          "text": [
            "sorted()\n"
          ],
          "name": "stdout"
        },
        {
          "output_type": "execute_result",
          "data": {
            "text/plain": [
              "(['e', 'o', 'r', 'z'], [1, 2, 3])"
            ]
          },
          "metadata": {
            "tags": []
          },
          "execution_count": 72
        }
      ]
    },
    {
      "cell_type": "code",
      "metadata": {
        "id": "nCxddxWCs2-u",
        "colab_type": "code",
        "outputId": "cd42edce-5a36-499e-8219-4c9e693e6c04",
        "colab": {
          "base_uri": "https://localhost:8080/",
          "height": 119
        }
      },
      "source": [
        "print(\"str()\")\n",
        "###########################################################\n",
        "# str(object)은 문자열 형태로 객체를 변환하여 돌려주는 함수\n",
        "###########################################################\n",
        "#\n",
        "str(3)\n",
        "str(100)\n",
        "str(\"hello\".upper())\n",
        "\n",
        "\n",
        "print(\"sum()\")\n",
        "###########################################################\n",
        "# sum(iterable) 은 입력받은 리스트나 튜플의\n",
        "# 모든 요소의 합을 돌려주는 함수\n",
        "###########################################################\n",
        "#\n",
        "sum([1, 2, 3])\n",
        "sum((4, 5, 6))\n",
        "\n",
        "\n",
        "print(\"tuple()\")\n",
        "###########################################################\n",
        "# tuple(iterable)은 반복 가능한 자료형을 입력받아\n",
        "# 튜플 형태로 바꾸어 돌려주는 함수\n",
        "###########################################################\n",
        "#\n",
        "tuple(\"abc\")\n",
        "tuple([1, 2, 3])\n",
        "\n",
        "\n",
        "print(\"type()\")\n",
        "###########################################################\n",
        "# type(object)은 입력값의 자료형이 무엇인지 알려 주는 함수\n",
        "###########################################################\n",
        "#\n",
        "type(\"abc\")\n",
        "type([])\n",
        "type({a: 4})\n",
        "type(open(\"test\", \"w\"))\n",
        "\n",
        "\n",
        "print(\"zip()\")  # ***\n",
        "###########################################################\n",
        "# zip(*iterable)은 동일한 개수로 이루어진 자료형을\n",
        "# 묶어 주는 역할을 하는 함수\n",
        "###########################################################\n",
        "#\n",
        "list(zip([1, 2, 3], [4, 5, 6]))\n",
        "list(zip([1, 2, 3], [4, 5, 6], [7, 8, 9]))\n",
        "list(zip(\"abc\", \"def\"))\n",
        "list(zip([1, 2, 3], \"def\")) # 1 - d, 2 - e, 3 - f\n",
        "\n",
        "############## The END  ##############"
      ],
      "execution_count": 0,
      "outputs": [
        {
          "output_type": "stream",
          "text": [
            "str()\n",
            "sum()\n",
            "tuple()\n",
            "type()\n",
            "zip()\n"
          ],
          "name": "stdout"
        },
        {
          "output_type": "execute_result",
          "data": {
            "text/plain": [
              "[(1, 'd'), (2, 'e'), (3, 'f')]"
            ]
          },
          "metadata": {
            "tags": []
          },
          "execution_count": 73
        }
      ]
    },
    {
      "cell_type": "markdown",
      "metadata": {
        "id": "44wFlIE_Iyzh",
        "colab_type": "text"
      },
      "source": [
        "### 파이썬 중요 함수 정리\n",
        "> https://wayhome25.github.io/cs/2017/04/03/cs-03/"
      ]
    },
    {
      "cell_type": "markdown",
      "metadata": {
        "id": "QlgX4cn2wFWE",
        "colab_type": "text"
      },
      "source": [
        "# 외장 함수"
      ]
    },
    {
      "cell_type": "markdown",
      "metadata": {
        "id": "DFZHMh5pVq82",
        "colab_type": "text"
      },
      "source": [
        "- 외장 함수\n",
        "   - sys\n",
        "   - pickle\n",
        "   - os\n",
        "   - shutil\n",
        "   - glob\n",
        "   - tempfile\n",
        "   - time\n",
        "   - calendar\n",
        "   - random\n",
        "   - webbrowser"
      ]
    },
    {
      "cell_type": "code",
      "metadata": {
        "id": "fGBlcLGN-3pd",
        "colab_type": "code",
        "outputId": "98f405f5-d7ec-4451-c9e4-c11dd21949be",
        "colab": {
          "base_uri": "https://localhost:8080/",
          "height": 34
        }
      },
      "source": [
        "# ch5_06_external_functions.py\n",
        "#\n",
        "print(\"외장 함수\")\n",
        "###########################################################\n",
        "# 파이썬 사용자들이 만든 유용한 프로그램을 모아 놓은 것이\n",
        "# 바로 파이썬 라이브러리\n",
        "# 외장 모듈은 'import module_name' 형식으로 불러와서 사용\n",
        "###########################################################\n",
        "#"
      ],
      "execution_count": 0,
      "outputs": [
        {
          "output_type": "stream",
          "text": [
            "외장 함수\n"
          ],
          "name": "stdout"
        }
      ]
    },
    {
      "cell_type": "markdown",
      "metadata": {
        "id": "GabAjFU0wm-A",
        "colab_type": "text"
      },
      "source": [
        "### os 모듈"
      ]
    },
    {
      "cell_type": "code",
      "metadata": {
        "id": "VDp341yjwcY1",
        "colab_type": "code",
        "outputId": "77f38ac3-6fee-4274-8545-7c201d7aa5d1",
        "colab": {
          "base_uri": "https://localhost:8080/",
          "height": 51
        }
      },
      "source": [
        "print(\"os\")  # ***\n",
        "###########################################################\n",
        "# OS 모듈은 환경 변수나 디렉터리, 파일 등의 OS 자원을\n",
        "# 제어할 수 있게 해주는 모듈\n",
        "###########################################################\n",
        "#\n",
        "# 내 시스템의 환경 변수값을 알고 싶을 때 - os.environ\n",
        "import os\n",
        "\n",
        "os.environ\n",
        "\n",
        "# 시스템의 PATH 환경 변수 내용\n",
        "os.environ[\"PATH\"]\n",
        "\n",
        "# 현재 디렉터리 위치 확인 - os.getcwd()\n",
        "os.getcwd() # get current working directory\n",
        "\n",
        "# 시스템 명령어 호출하기 - os.system\n",
        "# os.system(\"dir\")\n",
        "\n",
        "# 디렉터리 위치 변경하기 - os.chdir('directory')\n",
        "# os.chdir(\"ch05\")\n",
        "\n",
        "# 기타 유용한 os 관련 함수\n",
        "# os.mkdir(디렉터리)\n",
        "# os.rmdir(디렉터리)\n",
        "# os.rename(src, dst)"
      ],
      "execution_count": 0,
      "outputs": [
        {
          "output_type": "stream",
          "text": [
            "os\n"
          ],
          "name": "stdout"
        },
        {
          "output_type": "execute_result",
          "data": {
            "text/plain": [
              "'/content'"
            ]
          },
          "metadata": {
            "tags": []
          },
          "execution_count": 78
        }
      ]
    },
    {
      "cell_type": "markdown",
      "metadata": {
        "id": "XD5g7IwtxUy6",
        "colab_type": "text"
      },
      "source": [
        "### sys 모듈"
      ]
    },
    {
      "cell_type": "code",
      "metadata": {
        "id": "PkjA0picwvhu",
        "colab_type": "code",
        "colab": {}
      },
      "source": [
        "print(\"sys\")  # ***\n",
        "###########################################################\n",
        "# sys 모듈은 파이썬 인터프리터가 제공하는 변수와 함수를\n",
        "# 직접 제어할 수 있게 해주는 모듈\n",
        "###########################################################\n",
        "#\n",
        "# argv_test.py\n",
        "import sys\n",
        "\n",
        "# print(sys.argv)\n",
        "\n",
        "# 강제로 스크립트 종료하기 - sys.exit\n",
        "import sys\n",
        "\n",
        "# sys.exit()  # ^Z"
      ],
      "execution_count": 0,
      "outputs": []
    },
    {
      "cell_type": "code",
      "metadata": {
        "id": "1MLAKTfExkzK",
        "colab_type": "code",
        "colab": {}
      },
      "source": [
        "import sys\n",
        "\n",
        "sys.path\n",
        "\n",
        "import os\n",
        "\n",
        "os.getcwd()\n",
        "\n",
        "# import sys\n",
        "\n",
        "sys.path.append(\"C:/doit/mymod\")\n",
        "# C:/doit/Mymod 디렉터리에 있는 파이썬 모듈을 불러와서 사용."
      ],
      "execution_count": 0,
      "outputs": []
    },
    {
      "cell_type": "code",
      "metadata": {
        "id": "ovesKH2VyCp_",
        "colab_type": "code",
        "outputId": "13fb4649-fa8b-424e-c521-e457e7829f81",
        "colab": {
          "base_uri": "https://localhost:8080/",
          "height": 187
        }
      },
      "source": [
        "sys.path"
      ],
      "execution_count": 0,
      "outputs": [
        {
          "output_type": "execute_result",
          "data": {
            "text/plain": [
              "['',\n",
              " '/env/python',\n",
              " '/usr/lib/python36.zip',\n",
              " '/usr/lib/python3.6',\n",
              " '/usr/lib/python3.6/lib-dynload',\n",
              " '/usr/local/lib/python3.6/dist-packages',\n",
              " '/usr/lib/python3/dist-packages',\n",
              " '/usr/local/lib/python3.6/dist-packages/IPython/extensions',\n",
              " '/root/.ipython',\n",
              " 'C:/doit/mymod']"
            ]
          },
          "metadata": {
            "tags": []
          },
          "execution_count": 82
        }
      ]
    },
    {
      "cell_type": "markdown",
      "metadata": {
        "id": "7LCpTGohyaby",
        "colab_type": "text"
      },
      "source": [
        "### pickle 모듈"
      ]
    },
    {
      "cell_type": "code",
      "metadata": {
        "id": "695O2Ae7xucW",
        "colab_type": "code",
        "outputId": "fa3c7647-640f-4e25-e2a2-0333a568e188",
        "colab": {
          "base_uri": "https://localhost:8080/",
          "height": 51
        }
      },
      "source": [
        "print(\"pickle\")\n",
        "###########################################################\n",
        "# pickle은 객체의 형태를 그대로 유지하면서 파일에 저장하고\n",
        "# 불러올 수 있게 하는 모듈\n",
        "###########################################################\n",
        "#\n",
        "import pickle\n",
        "\n",
        "# 객체 그대로 유지하면서 파일에 저장\n",
        "f = open(\"test.txt\", \"wb\")\n",
        "data = {1: \"python\", 2: \"you need\"}\n",
        "pickle.dump(data, f)\n",
        "f.close()\n",
        "\n",
        "\n",
        "# pickle.load를 사용해서 원래 있던 딕셔너리 객체(data) 상태 그대로 불러오기\n",
        "f = open(\"test.txt\", \"rb\")\n",
        "data = pickle.load(f)\n",
        "f.close()\n",
        "\n",
        "print(data)\n",
        "# pickle 모듈로 어떤 자료형이든 저장하고 불러올 수 있다."
      ],
      "execution_count": 0,
      "outputs": [
        {
          "output_type": "stream",
          "text": [
            "pickle\n",
            "{1: 'python', 2: 'you need'}\n"
          ],
          "name": "stdout"
        }
      ]
    },
    {
      "cell_type": "code",
      "metadata": {
        "id": "TQgGNVV_ygYR",
        "colab_type": "code",
        "outputId": "f5a55133-2efc-48da-924b-828787ee9075",
        "colab": {
          "base_uri": "https://localhost:8080/",
          "height": 51
        }
      },
      "source": [
        "print(\"shutil\")\n",
        "###########################################################\n",
        "# shutil은 파일을 복사해 주는 파이썬 모듈\n",
        "###########################################################\n",
        "#\n",
        "import shutil\n",
        "\n",
        "os.system(\"dir\")\n",
        "shutil.copy(\"test.txt\", \"zest.txt\")\n",
        "os.system(\"dir\")  # 확인"
      ],
      "execution_count": 0,
      "outputs": [
        {
          "output_type": "stream",
          "text": [
            "shutil\n"
          ],
          "name": "stdout"
        },
        {
          "output_type": "execute_result",
          "data": {
            "text/plain": [
              "0"
            ]
          },
          "metadata": {
            "tags": []
          },
          "execution_count": 84
        }
      ]
    },
    {
      "cell_type": "markdown",
      "metadata": {
        "id": "zL6tody1zknf",
        "colab_type": "text"
      },
      "source": [
        "### glob 모듈"
      ]
    },
    {
      "cell_type": "code",
      "metadata": {
        "id": "EPHRXZBpzQpK",
        "colab_type": "code",
        "outputId": "65cd0c60-f729-48d2-e271-2771592963c0",
        "colab": {
          "base_uri": "https://localhost:8080/",
          "height": 51
        }
      },
      "source": [
        "print(\"glob\")\n",
        "###########################################################\n",
        "# 특정 디렉터리에 있는 파일 이름 모두 확인하는 파이썬 모듈\n",
        "# 디렉터리에 있는 파일들을 리스트로 만들기 - glob(pathname)\n",
        "###########################################################\n",
        "#\n",
        "import glob\n",
        "\n",
        "glob.glob(\"*.txt\")  # txt 파일 목록 확인\n",
        "# ['test.txt', 'zest.txt']"
      ],
      "execution_count": 0,
      "outputs": [
        {
          "output_type": "stream",
          "text": [
            "glob\n"
          ],
          "name": "stdout"
        },
        {
          "output_type": "execute_result",
          "data": {
            "text/plain": [
              "['test.txt', 'zest.txt']"
            ]
          },
          "metadata": {
            "tags": []
          },
          "execution_count": 85
        }
      ]
    },
    {
      "cell_type": "code",
      "metadata": {
        "id": "5O_Kc4HMztW4",
        "colab_type": "code",
        "colab": {}
      },
      "source": [
        "print(\"tempfile\")\n",
        "###########################################################\n",
        "# 파일을 임시로 만들어서 사용할 때 유용한 모듈\n",
        "###########################################################\n",
        "#\n",
        "import tempfile\n",
        "\n",
        "filename = tempfile.mktemp()\n",
        "filename\n",
        "\n",
        "# tempfile.TemporaryFile()은 임시 저장 공간으로 사용할 파일 객체를 돌려준다.\n",
        "# 이 파일은 기본적으로 바이너리 쓰기 모드(wb)를 갖는다.\n",
        "# f.close()가 호출되면 이 파일 객체는 자동으로 사라진다.\n",
        "import tempfile\n",
        "\n",
        "f = tempfile.TemporaryFile()\n",
        "f.close()"
      ],
      "execution_count": 0,
      "outputs": []
    },
    {
      "cell_type": "markdown",
      "metadata": {
        "id": "65lZ_cpFz9d1",
        "colab_type": "text"
      },
      "source": [
        "### time 모듈"
      ]
    },
    {
      "cell_type": "code",
      "metadata": {
        "id": "SdbWf2rnz79h",
        "colab_type": "code",
        "outputId": "239d7938-ca96-4631-fd5a-8c742a113a9f",
        "colab": {
          "base_uri": "https://localhost:8080/",
          "height": 51
        }
      },
      "source": [
        "print(\"time\")  # ***\n",
        "###########################################################\n",
        "# 시간과 관련된 time 모듈\n",
        "###########################################################\n",
        "#\n",
        "# time.time()\n",
        "#\n",
        "# time.time()은 UTC(Universal Time Coordinated 협정 세계 표준시)를\n",
        "# 사용하여 현재 시간을 실수 형태로 돌려주는 함수이다.\n",
        "# 1970년 1월 1일 0시 0분 0초를 기준으로 지난 시간을 초 단위로 돌려준다.\n",
        "import time\n",
        "\n",
        "time.time()"
      ],
      "execution_count": 0,
      "outputs": [
        {
          "output_type": "stream",
          "text": [
            "time\n"
          ],
          "name": "stdout"
        },
        {
          "output_type": "execute_result",
          "data": {
            "text/plain": [
              "1591601021.3864994"
            ]
          },
          "metadata": {
            "tags": []
          },
          "execution_count": 86
        }
      ]
    },
    {
      "cell_type": "code",
      "metadata": {
        "id": "GAexk7du0BIc",
        "colab_type": "code",
        "outputId": "be0749a6-790f-4ca7-ab64-7b1f2e695c13",
        "colab": {
          "base_uri": "https://localhost:8080/",
          "height": 34
        }
      },
      "source": [
        "# time.localtime()\n",
        "# time.localtime은 time.time()이 돌려준 실수 값을 사용해서\n",
        "# 연도, 월, 일, 시, 분, 초, ... 의 형태로 바꾸어 주는 함수\n",
        "time.localtime(time.time())\n",
        "# time.struct_time(tm_year=2019, tm_mon=10, tm_mday=30,\n",
        "# tm_hour=21, tm_min=18, tm_sec=15, tm_wday=2, tm_yday=303, tm_isdst=0)\n",
        "\n",
        "# time.asctime\n",
        "# 위 time.localtime에 의해서 반환된 튜플 형태의 값을 인수로 받아서\n",
        "# 날짜와 시간을 알아보기 쉬운 형태로 돌려주는 함수\n",
        "# time.asctime(time.localtime(time.time()))\n",
        "# 'Wed Oct 30 21:19:52 2019'\n",
        "\n",
        "# time.ctime\n",
        "# time.asctime(time.localtime(time.time()))은 time.ctime()과 같다.\n",
        "time.ctime()"
      ],
      "execution_count": 0,
      "outputs": [
        {
          "output_type": "execute_result",
          "data": {
            "text/plain": [
              "'Mon Jun  8 07:26:02 2020'"
            ]
          },
          "metadata": {
            "tags": []
          },
          "execution_count": 90
        }
      ]
    },
    {
      "cell_type": "markdown",
      "metadata": {
        "id": "-Y4b8wzg02HC",
        "colab_type": "text"
      },
      "source": [
        "### 시간 출력 형식"
      ]
    },
    {
      "cell_type": "code",
      "metadata": {
        "id": "GOZJ_Ak10Pwq",
        "colab_type": "code",
        "outputId": "90df8146-a9d4-4513-da47-841fef8cc903",
        "colab": {
          "base_uri": "https://localhost:8080/",
          "height": 34
        }
      },
      "source": [
        "# time.strftime\n",
        "# time.strftime('출력할 형식 포맷 코드', time.localtime(time.time()))\n",
        "# strftime 함수는 여러 가지 포맷 코드로 시간에 관계된 것을 세밀하게 표현\n",
        "\n",
        "# 시간에 관계된 것을 표현하는 포맷 코드\n",
        "##############################################################\n",
        "# 포맷코드\t설명\t예\n",
        "# %a\t요일 줄임말\tMon\n",
        "# %A\t요일\tMonday\n",
        "# %b\t달 줄임말\tJan\n",
        "# %B\t달\tJanuary\n",
        "# %c\t날짜와 시간을 출력함\t06/01/01 17:22:21\n",
        "# %d\t날(day)\t[01,31]\n",
        "# %H\t시간(hour)-24시간 출력 형태\t[00,23]\n",
        "# %I\t시간(hour)-12시간 출력 형태\t[01,12]\n",
        "# %j\t1년 중 누적 날짜\t[001,366]\n",
        "# %m\t달\t[01,12]\n",
        "# %M\t분\t[01,59]\n",
        "# %p\tAM or PM\tAM\n",
        "# %S\t초\t[00,59]\n",
        "# %U\t1년 중 누적 주-일요일을 시작으로\t[00,53]\n",
        "# %w\t숫자로 된 요일\t[0(일요일),6]\n",
        "# %W\t1년 중 누적 주-월요일을 시작으로\t[00,53]\n",
        "# %x\t현재 설정된 로케일에 기반한 날짜 출력\t06/01/01\n",
        "# %X\t현재 설정된 로케일에 기반한 시간 출력\t17:22:21\n",
        "# %Y\t년도 출력\t2001\n",
        "# %z\t시간대 출력\t대한민국 표준시\n",
        "# %y\t세기부분을 제외한 년도 출력\t01\n",
        "##############################################################\n",
        "\n",
        "import time\n",
        "\n",
        "time.strftime(\"%x\", time.localtime(time.time())) # %x\t현재 설정된 로케일에 기반한 날짜 출력\n",
        "\n",
        "time.strftime(\"%c\", time.localtime(time.time())) # %c\t날짜와 시간을 출력\n",
        "\n",
        "time.strftime(\"%z\", time.localtime(time.time())) # %z\t시간대 출력\t대한민국 표준시"
      ],
      "execution_count": 0,
      "outputs": [
        {
          "output_type": "execute_result",
          "data": {
            "text/plain": [
              "'+0000'"
            ]
          },
          "metadata": {
            "tags": []
          },
          "execution_count": 94
        }
      ]
    },
    {
      "cell_type": "code",
      "metadata": {
        "id": "OEcjy-nw07xd",
        "colab_type": "code",
        "outputId": "2d4a34d5-6766-4ce1-c6bb-f2c06b085c5c",
        "colab": {
          "base_uri": "https://localhost:8080/",
          "height": 187
        }
      },
      "source": [
        "# time.sleep\n",
        "# time.sleep 함수는 주로 루프 안에서 많이 사용한다.\n",
        "# 이 함수를 사용하면 일정한 시간 간격을 두고 루프를 실행\n",
        "# sleep1.py\n",
        "import time\n",
        "\n",
        "for i in range(10):\n",
        "    print(i)\n",
        "    time.sleep(1)  # delay = 1 s"
      ],
      "execution_count": 0,
      "outputs": [
        {
          "output_type": "stream",
          "text": [
            "0\n",
            "1\n",
            "2\n",
            "3\n",
            "4\n",
            "5\n",
            "6\n",
            "7\n",
            "8\n",
            "9\n"
          ],
          "name": "stdout"
        }
      ]
    },
    {
      "cell_type": "markdown",
      "metadata": {
        "id": "WAbRdkPe1iE3",
        "colab_type": "text"
      },
      "source": [
        "### calendar 모듈"
      ]
    },
    {
      "cell_type": "code",
      "metadata": {
        "id": "7poj8FuY1U-q",
        "colab_type": "code",
        "outputId": "e5743d1f-77a3-4f37-af29-2d8b78e9199f",
        "colab": {
          "base_uri": "https://localhost:8080/",
          "height": 1000
        }
      },
      "source": [
        "print(\"calendar\")\n",
        "###########################################################\n",
        "# 파이썬에서 달력을 볼 수 있게 해주는 모듈\n",
        "###########################################################\n",
        "#\n",
        "import calendar\n",
        "\n",
        "print(calendar.calendar(2020))\n",
        "\n",
        "calendar.prcal(2020)\n",
        "\n",
        "calendar.prmonth(2020, 6)"
      ],
      "execution_count": 0,
      "outputs": [
        {
          "output_type": "stream",
          "text": [
            "calendar\n",
            "                                  2020\n",
            "\n",
            "      January                   February                   March\n",
            "Mo Tu We Th Fr Sa Su      Mo Tu We Th Fr Sa Su      Mo Tu We Th Fr Sa Su\n",
            "       1  2  3  4  5                      1  2                         1\n",
            " 6  7  8  9 10 11 12       3  4  5  6  7  8  9       2  3  4  5  6  7  8\n",
            "13 14 15 16 17 18 19      10 11 12 13 14 15 16       9 10 11 12 13 14 15\n",
            "20 21 22 23 24 25 26      17 18 19 20 21 22 23      16 17 18 19 20 21 22\n",
            "27 28 29 30 31            24 25 26 27 28 29         23 24 25 26 27 28 29\n",
            "                                                    30 31\n",
            "\n",
            "       April                      May                       June\n",
            "Mo Tu We Th Fr Sa Su      Mo Tu We Th Fr Sa Su      Mo Tu We Th Fr Sa Su\n",
            "       1  2  3  4  5                   1  2  3       1  2  3  4  5  6  7\n",
            " 6  7  8  9 10 11 12       4  5  6  7  8  9 10       8  9 10 11 12 13 14\n",
            "13 14 15 16 17 18 19      11 12 13 14 15 16 17      15 16 17 18 19 20 21\n",
            "20 21 22 23 24 25 26      18 19 20 21 22 23 24      22 23 24 25 26 27 28\n",
            "27 28 29 30               25 26 27 28 29 30 31      29 30\n",
            "\n",
            "        July                     August                  September\n",
            "Mo Tu We Th Fr Sa Su      Mo Tu We Th Fr Sa Su      Mo Tu We Th Fr Sa Su\n",
            "       1  2  3  4  5                      1  2          1  2  3  4  5  6\n",
            " 6  7  8  9 10 11 12       3  4  5  6  7  8  9       7  8  9 10 11 12 13\n",
            "13 14 15 16 17 18 19      10 11 12 13 14 15 16      14 15 16 17 18 19 20\n",
            "20 21 22 23 24 25 26      17 18 19 20 21 22 23      21 22 23 24 25 26 27\n",
            "27 28 29 30 31            24 25 26 27 28 29 30      28 29 30\n",
            "                          31\n",
            "\n",
            "      October                   November                  December\n",
            "Mo Tu We Th Fr Sa Su      Mo Tu We Th Fr Sa Su      Mo Tu We Th Fr Sa Su\n",
            "          1  2  3  4                         1          1  2  3  4  5  6\n",
            " 5  6  7  8  9 10 11       2  3  4  5  6  7  8       7  8  9 10 11 12 13\n",
            "12 13 14 15 16 17 18       9 10 11 12 13 14 15      14 15 16 17 18 19 20\n",
            "19 20 21 22 23 24 25      16 17 18 19 20 21 22      21 22 23 24 25 26 27\n",
            "26 27 28 29 30 31         23 24 25 26 27 28 29      28 29 30 31\n",
            "                          30\n",
            "\n",
            "                                  2020\n",
            "\n",
            "      January                   February                   March\n",
            "Mo Tu We Th Fr Sa Su      Mo Tu We Th Fr Sa Su      Mo Tu We Th Fr Sa Su\n",
            "       1  2  3  4  5                      1  2                         1\n",
            " 6  7  8  9 10 11 12       3  4  5  6  7  8  9       2  3  4  5  6  7  8\n",
            "13 14 15 16 17 18 19      10 11 12 13 14 15 16       9 10 11 12 13 14 15\n",
            "20 21 22 23 24 25 26      17 18 19 20 21 22 23      16 17 18 19 20 21 22\n",
            "27 28 29 30 31            24 25 26 27 28 29         23 24 25 26 27 28 29\n",
            "                                                    30 31\n",
            "\n",
            "       April                      May                       June\n",
            "Mo Tu We Th Fr Sa Su      Mo Tu We Th Fr Sa Su      Mo Tu We Th Fr Sa Su\n",
            "       1  2  3  4  5                   1  2  3       1  2  3  4  5  6  7\n",
            " 6  7  8  9 10 11 12       4  5  6  7  8  9 10       8  9 10 11 12 13 14\n",
            "13 14 15 16 17 18 19      11 12 13 14 15 16 17      15 16 17 18 19 20 21\n",
            "20 21 22 23 24 25 26      18 19 20 21 22 23 24      22 23 24 25 26 27 28\n",
            "27 28 29 30               25 26 27 28 29 30 31      29 30\n",
            "\n",
            "        July                     August                  September\n",
            "Mo Tu We Th Fr Sa Su      Mo Tu We Th Fr Sa Su      Mo Tu We Th Fr Sa Su\n",
            "       1  2  3  4  5                      1  2          1  2  3  4  5  6\n",
            " 6  7  8  9 10 11 12       3  4  5  6  7  8  9       7  8  9 10 11 12 13\n",
            "13 14 15 16 17 18 19      10 11 12 13 14 15 16      14 15 16 17 18 19 20\n",
            "20 21 22 23 24 25 26      17 18 19 20 21 22 23      21 22 23 24 25 26 27\n",
            "27 28 29 30 31            24 25 26 27 28 29 30      28 29 30\n",
            "                          31\n",
            "\n",
            "      October                   November                  December\n",
            "Mo Tu We Th Fr Sa Su      Mo Tu We Th Fr Sa Su      Mo Tu We Th Fr Sa Su\n",
            "          1  2  3  4                         1          1  2  3  4  5  6\n",
            " 5  6  7  8  9 10 11       2  3  4  5  6  7  8       7  8  9 10 11 12 13\n",
            "12 13 14 15 16 17 18       9 10 11 12 13 14 15      14 15 16 17 18 19 20\n",
            "19 20 21 22 23 24 25      16 17 18 19 20 21 22      21 22 23 24 25 26 27\n",
            "26 27 28 29 30 31         23 24 25 26 27 28 29      28 29 30 31\n",
            "                          30\n",
            "\n",
            "     June 2020\n",
            "Mo Tu We Th Fr Sa Su\n",
            " 1  2  3  4  5  6  7\n",
            " 8  9 10 11 12 13 14\n",
            "15 16 17 18 19 20 21\n",
            "22 23 24 25 26 27 28\n",
            "29 30\n"
          ],
          "name": "stdout"
        }
      ]
    },
    {
      "cell_type": "code",
      "metadata": {
        "id": "3gvFe8DD1m1S",
        "colab_type": "code",
        "outputId": "e2259ec2-8d5d-435b-eb59-e282fd39f2d8",
        "colab": {
          "base_uri": "https://localhost:8080/",
          "height": 34
        }
      },
      "source": [
        "# calendar.weekday\n",
        "# calendar 모듈의 또 다른 유용한 함수를 보자.\n",
        "# weekday(연도, 월, 일) 함수는 그 날짜에 해당하는 요일 정보를 돌려준다.\n",
        "# 월요일은 0, 화요일은 1, 수요일은 2, 목요일은 3, 금요일은 4,\n",
        "# 토요일은 5, 일요일은 6이라는 값을 돌려준다.\n",
        "calendar.weekday(2020, 6, 8)\n",
        "\n",
        "\n",
        "# calendar.monthrange\n",
        "# monthrange(연도, 월) 함수는 입력받은 달의 1일이 무슨 요일인지와\n",
        "# 그 달이 며칠까지 있는지를 튜플 형태로 돌려준다.\n",
        "calendar.monthrange(2020, 6)"
      ],
      "execution_count": 0,
      "outputs": [
        {
          "output_type": "execute_result",
          "data": {
            "text/plain": [
              "(0, 30)"
            ]
          },
          "metadata": {
            "tags": []
          },
          "execution_count": 103
        }
      ]
    },
    {
      "cell_type": "markdown",
      "metadata": {
        "id": "XZCktTcp2fLT",
        "colab_type": "text"
      },
      "source": [
        "## random 모듈\n",
        "- 난수 발생 및 이용"
      ]
    },
    {
      "cell_type": "code",
      "metadata": {
        "id": "R0QKzkQs2BsP",
        "colab_type": "code",
        "outputId": "3ba641f7-1efb-4ac6-ddae-8cc4e046e1ba",
        "colab": {
          "base_uri": "https://localhost:8080/",
          "height": 51
        }
      },
      "source": [
        "print(\"random\")  # ***\n",
        "###########################################################\n",
        "# 난수(규칙이 없는 임의의 수)를 발생시키는 모듈\n",
        "# 마구잡이 수 발생\n",
        "# random(), randint()\n",
        "###########################################################\n",
        "#\n",
        "\n",
        "import random\n",
        "\n",
        "# random() : 0.0에서 1.0 사이의 실수 중에서 난수 값을 생성\n",
        "random.random()"
      ],
      "execution_count": 0,
      "outputs": [
        {
          "output_type": "stream",
          "text": [
            "random\n"
          ],
          "name": "stdout"
        },
        {
          "output_type": "execute_result",
          "data": {
            "text/plain": [
              "0.42279951159346163"
            ]
          },
          "metadata": {
            "tags": []
          },
          "execution_count": 112
        }
      ]
    },
    {
      "cell_type": "markdown",
      "metadata": {
        "id": "_SHStMzl3TBN",
        "colab_type": "text"
      },
      "source": [
        "### randint(start, end)"
      ]
    },
    {
      "cell_type": "code",
      "metadata": {
        "id": "nFlM86hn3RtF",
        "colab_type": "code",
        "outputId": "afbfafe3-11ac-4932-dd59-72cf614ccc97",
        "colab": {
          "base_uri": "https://localhost:8080/",
          "height": 34
        }
      },
      "source": [
        "# randint(start, end) : start에서 end 사이의 정수 중에서 난수 값을 생성\n",
        "random.randint(1, 10)"
      ],
      "execution_count": 0,
      "outputs": [
        {
          "output_type": "execute_result",
          "data": {
            "text/plain": [
              "8"
            ]
          },
          "metadata": {
            "tags": []
          },
          "execution_count": 113
        }
      ]
    },
    {
      "cell_type": "code",
      "metadata": {
        "id": "z1_pGSqr20jn",
        "colab_type": "code",
        "outputId": "b05d493a-422f-4f02-cd7d-a7864da249db",
        "colab": {
          "base_uri": "https://localhost:8080/",
          "height": 34
        }
      },
      "source": [
        "for i in range(6):\n",
        "    print(random.randint(1, 45), end=\",\")\n",
        "\n",
        "print()"
      ],
      "execution_count": 0,
      "outputs": [
        {
          "output_type": "stream",
          "text": [
            "39,18,40,36,5,40,\n"
          ],
          "name": "stdout"
        }
      ]
    },
    {
      "cell_type": "code",
      "metadata": {
        "id": "j9Js1cKi3nps",
        "colab_type": "code",
        "outputId": "4942c4c9-0eee-4bf2-88f1-397ce4f2a079",
        "colab": {
          "base_uri": "https://localhost:8080/",
          "height": 34
        }
      },
      "source": [
        "#####\n",
        "# random 모듈을 사용해서 재미있는 함수\n",
        "#\n",
        "# random_pop.py\n",
        "import random\n",
        "\n",
        "\n",
        "def random_pop(data):\n",
        "    number = random.randint(0, len(data) - 1)\n",
        "    return data.pop(number)\n",
        "\n",
        "\n",
        "if __name__ == \"__main__\":\n",
        "    data = list(range(1, 10))  # [1, 2, 3, 4, 5]\n",
        "    while data:\n",
        "        print(random_pop(data), end=\" \")\n",
        "    print()\n",
        "\n",
        "# 리스트의 요소 중에서 무작위로 하나를 선택하여 꺼낸 다음 그 값을 돌려준다.\n",
        "# 물론 꺼낸 요소는 pop 메서드에 의해 사라진다."
      ],
      "execution_count": 0,
      "outputs": [
        {
          "output_type": "stream",
          "text": [
            "8 3 1 2 6 9 4 7 5 \n"
          ],
          "name": "stdout"
        }
      ]
    },
    {
      "cell_type": "code",
      "metadata": {
        "id": "DCqMr5N64DpT",
        "colab_type": "code",
        "outputId": "7fa9aea3-7e74-461b-ad99-e9d2f41b3457",
        "colab": {
          "base_uri": "https://localhost:8080/",
          "height": 34
        }
      },
      "source": [
        "# random_pop 함수는 random 모듈의 choice 함수를 사용하여\n",
        "# 다음과 같이 좀 더 직관적으로 만들 수도 있다.\n",
        "\n",
        "def random_pop(data):\n",
        "    number = random.choice(data) \n",
        "    data.remove(number) # 뽑힌 요소 제거 \n",
        "    return number\n",
        "\n",
        "\n",
        "# random_pop([1, 2, 3, 4, 5])\n",
        "\n",
        "if __name__ == \"__main__\":\n",
        "    data = list(range(1, 10))  # [1, 2, 3, 4, 5]\n",
        "    while data:\n",
        "        print(random_pop(data), end=\" \")\n",
        "    print()"
      ],
      "execution_count": 0,
      "outputs": [
        {
          "output_type": "stream",
          "text": [
            "4 5 9 7 3 8 1 2 6 \n"
          ],
          "name": "stdout"
        }
      ]
    },
    {
      "cell_type": "markdown",
      "metadata": {
        "id": "g66GJtJo5gtP",
        "colab_type": "text"
      },
      "source": [
        "## if \\_\\_name\\_\\_ == \"\\_\\_main\\_\\_\": 의 의미는 ?"
      ]
    },
    {
      "cell_type": "code",
      "metadata": {
        "id": "HktUfc7T4wzq",
        "colab_type": "code",
        "colab": {}
      },
      "source": [
        "#####################################################\n",
        "# 다음의 의미\n",
        "# if __name__ == \"__main__\":\n",
        "# https://pinocc.tistory.com/175\n",
        "#\n",
        "# Filename: using_name.py\n",
        "\"\"\"\n",
        "if __name__ == '__main__':\n",
        "\tprint 'This program is being run by itself'\n",
        "else:\n",
        "\tprint 'I am being imported from another module'\n",
        "\"\"\"\n",
        "# 직접 실행\n",
        "# python using_name.py\n",
        "# This program is being run by itself\n",
        "\n",
        "# 모듈로 import 되어 실행\n",
        "# >>> import using_name\n",
        "# >>> I am being imported from another module\n",
        "#####################################################"
      ],
      "execution_count": 0,
      "outputs": []
    },
    {
      "cell_type": "code",
      "metadata": {
        "id": "7JsBiGYN6NMh",
        "colab_type": "code",
        "outputId": "be5e85b6-1914-446f-c1c2-096d7e59a9d2",
        "colab": {
          "base_uri": "https://localhost:8080/",
          "height": 34
        }
      },
      "source": [
        "run using_name.py"
      ],
      "execution_count": 0,
      "outputs": [
        {
          "output_type": "stream",
          "text": [
            "This program is being run by itself\n"
          ],
          "name": "stdout"
        }
      ]
    },
    {
      "cell_type": "code",
      "metadata": {
        "id": "m2jsRtVX6oe_",
        "colab_type": "code",
        "colab": {}
      },
      "source": [
        "import using_name"
      ],
      "execution_count": 0,
      "outputs": []
    },
    {
      "cell_type": "code",
      "metadata": {
        "id": "Etugo8gX6KHp",
        "colab_type": "code",
        "colab": {}
      },
      "source": [
        "#\n",
        "# 리스트의 항목을 무작위로 섞고 싶을 때는 random.shuffle 함수를 사용\n",
        "#\n",
        "import random\n",
        "\n",
        "data = [1, 2, 3, 4, 5]\n",
        "random.shuffle(data)\n",
        "data\n",
        "\n",
        "\n",
        "print(\"webbrowser\")\n",
        "###########################################################\n",
        "# webbrowser는 자신의 시스템에서 사용하는 기본 웹 브라우저를\n",
        "# 자동으로 실행하는 모듈\n",
        "###########################################################\n",
        "#\n",
        "import webbrowser\n",
        "\n",
        "webbrowser.open(\"http://google.com\")\n",
        "# 새로운 창/탭으로 열기\n",
        "webbrowser.open_new(\"http://google.com\")\n",
        "\n",
        "## end of ch.05"
      ],
      "execution_count": 0,
      "outputs": []
    },
    {
      "cell_type": "code",
      "metadata": {
        "id": "n03A_hdA3HTn",
        "colab_type": "code",
        "colab": {}
      },
      "source": [
        ""
      ],
      "execution_count": 0,
      "outputs": []
    }
  ]
}