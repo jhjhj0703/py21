{
  "nbformat": 4,
  "nbformat_minor": 0,
  "metadata": {
    "colab": {
      "name": "mid_exam_py21.ipynb",
      "provenance": [],
      "collapsed_sections": [],
      "authorship_tag": "ABX9TyO+/HP+hivYRnT0vvOl37az",
      "include_colab_link": true
    },
    "kernelspec": {
      "name": "python3",
      "display_name": "Python 3"
    }
  },
  "cells": [
    {
      "cell_type": "markdown",
      "metadata": {
        "id": "view-in-github",
        "colab_type": "text"
      },
      "source": [
        "<a href=\"https://colab.research.google.com/github/jhjhj0703/py21/blob/master/notebook/mid_exam_py21.ipynb\" target=\"_parent\"><img src=\"https://colab.research.google.com/assets/colab-badge.svg\" alt=\"Open In Colab\"/></a>"
      ]
    },
    {
      "cell_type": "markdown",
      "metadata": {
        "id": "j9IuI6EldD4K",
        "colab_type": "text"
      },
      "source": [
        "## 파이썬활용 중간고사 풀이 "
      ]
    },
    {
      "cell_type": "markdown",
      "metadata": {
        "id": "7o84MUESdKEg",
        "colab_type": "text"
      },
      "source": [
        "### 문제1. 다음 식의 연산 결과는?"
      ]
    },
    {
      "cell_type": "code",
      "metadata": {
        "id": "Hd5jbFyyc7g7",
        "colab_type": "code",
        "outputId": "07b6dad6-f1f6-4375-8e36-834f5348eb75",
        "colab": {
          "base_uri": "https://localhost:8080/",
          "height": 34
        }
      },
      "source": [
        "a = 5\n",
        "b = 3\n",
        "a**b\n",
        "\n",
        "# 1번 풀이\n",
        "# a**b는 제곱이라는 의미이다. \n",
        "# a^3제곱이라는 의미로 5*5*5 125이다."
      ],
      "execution_count": 0,
      "outputs": [
        {
          "output_type": "execute_result",
          "data": {
            "text/plain": [
              "125"
            ]
          },
          "metadata": {
            "tags": []
          },
          "execution_count": 2
        }
      ]
    },
    {
      "cell_type": "markdown",
      "metadata": {
        "id": "5fgvbciH4mIx",
        "colab_type": "text"
      },
      "source": [
        "### 문제2. 다음 문자여 a에 대하여 슬라이싱을 한 결과는?"
      ]
    },
    {
      "cell_type": "code",
      "metadata": {
        "id": "NlLxHxut2rKf",
        "colab_type": "code",
        "outputId": "cc01930b-747d-4171-c12b-3c4fbab4a3c4",
        "colab": {
          "base_uri": "https://localhost:8080/",
          "height": 34
        }
      },
      "source": [
        "a=\"Life is too short, You need python!\"\n",
        "a[-16:-8]\n",
        "\n",
        "# 2번 풀이\n",
        "# 슬라이싱에 -부호가 달리게 되면 반대로 카운트해야 하는데 0부터가 아닌 -1을 기준으로 시작해야 한다.."
      ],
      "execution_count": 0,
      "outputs": [
        {
          "output_type": "execute_result",
          "data": {
            "text/plain": [
              "'You need'"
            ]
          },
          "metadata": {
            "tags": []
          },
          "execution_count": 4
        }
      ]
    },
    {
      "cell_type": "markdown",
      "metadata": {
        "id": "MhlH_wCq5kG6",
        "colab_type": "text"
      },
      "source": [
        "### 문제3. 다음 list a의 인덱싱 결과는?"
      ]
    },
    {
      "cell_type": "code",
      "metadata": {
        "id": "jK8Kx5Ro4YEg",
        "colab_type": "code",
        "outputId": "4fc15964-d498-4b01-f511-66f7b8e563f0",
        "colab": {
          "base_uri": "https://localhost:8080/",
          "height": 34
        }
      },
      "source": [
        "a = [1,2, (3, 4), ['a', 'b',['My', 'Life', 'Good']]]\n",
        "a[3][-1][0]\n",
        "\n",
        "# 3번 풀이\n",
        "# [3] > ['a', 'b', ['My', 'Life', 'Good']]\n",
        "# [-1] > ['My, 'Life', 'Good']\n",
        "# [0] > 'My'\n",
        "# 따라서 인덱시의 결과는 'My'이다."
      ],
      "execution_count": 0,
      "outputs": [
        {
          "output_type": "execute_result",
          "data": {
            "text/plain": [
              "'My'"
            ]
          },
          "metadata": {
            "tags": []
          },
          "execution_count": 5
        }
      ]
    },
    {
      "cell_type": "markdown",
      "metadata": {
        "id": "1bI8Hnd36Cr9",
        "colab_type": "text"
      },
      "source": [
        "### 문제4. 다음 tuple t1의 슬라이싱 결과는?"
      ]
    },
    {
      "cell_type": "code",
      "metadata": {
        "id": "LAwEEQAx57dt",
        "colab_type": "code",
        "outputId": "809bd99a-22bd-4b4e-d8b1-3e5c0279952d",
        "colab": {
          "base_uri": "https://localhost:8080/",
          "height": 34
        }
      },
      "source": [
        "t1 = (0, 1,\"s\",\"t\",\"u\")\n",
        "t1[2:-2]\n",
        "\n",
        "# 4번 풀이\n",
        "# 튜플에서 요소가 하나일 경우에는 뒤에 ','를 붙인다."
      ],
      "execution_count": 0,
      "outputs": [
        {
          "output_type": "execute_result",
          "data": {
            "text/plain": [
              "('s',)"
            ]
          },
          "metadata": {
            "tags": []
          },
          "execution_count": 6
        }
      ]
    },
    {
      "cell_type": "markdown",
      "metadata": {
        "id": "AZdMIpTX6gLi",
        "colab_type": "text"
      },
      "source": [
        "### 문제5. 다음 bool 값 출력 중 정확한 것은?"
      ]
    },
    {
      "cell_type": "code",
      "metadata": {
        "id": "Wwz0Va-C6Z45",
        "colab_type": "code",
        "outputId": "15d18ffc-7b12-44a7-9e96-1004fa7701ff",
        "colab": {
          "base_uri": "https://localhost:8080/",
          "height": 34
        }
      },
      "source": [
        "bool([0,1,2]), bool([(0)]), bool((0)), bool((0,))\n",
        "\n",
        "# 5번 풀이\n",
        "# bool([0,1,2])는 값이 리스트 이므로 참이다.\n",
        "# bool([(0)])는 값이 리스트 이므로 참이다.\n",
        "# bool((0))는 값이 0이기 때문에 거짓이다.\n",
        "# bool((0,))는 튜플에 요소가 담겨 있기 때문에 참이다."
      ],
      "execution_count": 0,
      "outputs": [
        {
          "output_type": "execute_result",
          "data": {
            "text/plain": [
              "(True, True, False, True)"
            ]
          },
          "metadata": {
            "tags": []
          },
          "execution_count": 7
        }
      ]
    },
    {
      "cell_type": "markdown",
      "metadata": {
        "id": "tDZz-I_8iou-",
        "colab_type": "text"
      },
      "source": [
        "### 문제6. 다음 조건문을 1줄 코드로 변경하시오."
      ]
    },
    {
      "cell_type": "code",
      "metadata": {
        "id": "ODufy0Nb6waR",
        "colab_type": "code",
        "colab": {}
      },
      "source": [
        "score = 80\n",
        "if score >=60:\n",
        "  message = \"success\"\n",
        "else:\n",
        "  message = \"failure\"\n",
        "\n",
        "# 6번 풀이 \n",
        "# if - else문을 1줄 코드로 만들게 되면 if는 뒤로 이동하게 된다.\n",
        "# message = \"success\" if score >= 60 else \"failure\"\n",
        "# print(message)"
      ],
      "execution_count": 0,
      "outputs": []
    },
    {
      "cell_type": "markdown",
      "metadata": {
        "id": "XGoDtJ-8kXi_",
        "colab_type": "text"
      },
      "source": [
        "### 문제7. 다음 코드의 실행 결과는?"
      ]
    },
    {
      "cell_type": "code",
      "metadata": {
        "id": "S7YenT7WkHIM",
        "colab_type": "code",
        "colab": {
          "base_uri": "https://localhost:8080/",
          "height": 36
        },
        "outputId": "e1182b40-8105-4563-f301-6aba25e81d02"
      },
      "source": [
        "games = [\"A\", \"B\", \"C\"]\n",
        "\n",
        "for cnt in range(len(games)):\n",
        "    print(cnt, games[cnt], end=',')\n",
        "\n",
        "# 7번 풀이\n",
        "# print문은 여러 항목들을 구분할 때, 항목 사이끼리 원 스페이스 바로 떨어져있고 end 속성으로 줄을 바꾸지 않고 ,를 넣었다."
      ],
      "execution_count": 10,
      "outputs": [
        {
          "output_type": "stream",
          "text": [
            "0 A,1 B,2 C,"
          ],
          "name": "stdout"
        }
      ]
    },
    {
      "cell_type": "markdown",
      "metadata": {
        "id": "BmXFiVmnlC_U",
        "colab_type": "text"
      },
      "source": [
        "### 문제8. 다음의 결과가 출력되지 않는 것은?"
      ]
    },
    {
      "cell_type": "code",
      "metadata": {
        "id": "WDs6qCUpktOc",
        "colab_type": "code",
        "colab": {}
      },
      "source": [
        "number = 10 \n",
        "day = \"three\"\n",
        "\n",
        "a = f\"l ate {number} apples. so l was sick for {'three'} days.\"\n",
        "b = f\"I ate {number} apples. so I was sick for {day} days.\"\n",
        "c = \"I ate {0} apples. so I was sick for {1} days.\".format(10, day)\n",
        "d = \"I ate {0} apples. so I was sick for {1} days.\".format(number = 10, day)\n",
        "\n",
        "# 8번 풀이\n",
        "# a,b,c 모두 출력 되지만 d는 오류이다.\n",
        "# d가 오류난 이유는 {name}를 사용할 경우 format 함수에 반드시 같은 형태의 입력값이 있어야 하기 때문이다."
      ],
      "execution_count": 0,
      "outputs": []
    },
    {
      "cell_type": "markdown",
      "metadata": {
        "id": "hY8WCKyZnDJy",
        "colab_type": "text"
      },
      "source": [
        "### 문제9. 리스트 내포를 사용해 1부터 1000이하의 자연수 코드를 작성하시오"
      ]
    },
    {
      "cell_type": "code",
      "metadata": {
        "id": "zi63UKyUliu3",
        "colab_type": "code",
        "colab": {
          "base_uri": "https://localhost:8080/",
          "height": 36
        },
        "outputId": "94a58b0c-4a21-491d-d350-37a3b6698304"
      },
      "source": [
        "sum([num for num in range(1, 1001) if num % 5==0]) \n",
        "\n",
        "# 9번 풀이 \n",
        "# 5의 배수를 구할려면 5로 나누었을 때 나머지가 0 이어야 하고 5의 배수들을 모두 더하는 것이므로 sum함수를 사용해야 합니다."
      ],
      "execution_count": 26,
      "outputs": [
        {
          "output_type": "execute_result",
          "data": {
            "text/plain": [
              "100500"
            ]
          },
          "metadata": {
            "tags": []
          },
          "execution_count": 26
        }
      ]
    },
    {
      "cell_type": "markdown",
      "metadata": {
        "id": "foQmd-Q-nUHI",
        "colab_type": "text"
      },
      "source": [
        "### 문제10. 4개 과목의 평균 성적을 구하시오.[a],[b]에 적합한 코드는?"
      ]
    },
    {
      "cell_type": "code",
      "metadata": {
        "id": "PD5nQPnqne3a",
        "colab_type": "code",
        "colab": {
          "base_uri": "https://localhost:8080/",
          "height": 138
        },
        "outputId": "bffb1c7c-1118-4303-d878-9de1b14982a7"
      },
      "source": [
        "subjects['python', 'english','math', 'science']\n",
        "scores = [88, 77, 66, 95]\n",
        "total = 0\n",
        "\n",
        "for subject, score in [a]. _____(subjects, scores):\n",
        "  total += score\n",
        "  print(subject, score)\n",
        "print(\"평균 점수 = (0), format([b].____\"))\n",
        "\n",
        "# zip, total/len(subjects)을 사용해야 합니다.\n",
        "# total을 subjects의 총 갯수로 나누는 것이 평균이기 때문입니다."
      ],
      "execution_count": 27,
      "outputs": [
        {
          "output_type": "error",
          "ename": "SyntaxError",
          "evalue": "ignored",
          "traceback": [
            "\u001b[0;36m  File \u001b[0;32m\"<ipython-input-27-4b33d4a7a7a1>\"\u001b[0;36m, line \u001b[0;32m8\u001b[0m\n\u001b[0;31m    print(\"평균 점수 = (0), format([b].____\"))\u001b[0m\n\u001b[0m                                         ^\u001b[0m\n\u001b[0;31mSyntaxError\u001b[0m\u001b[0;31m:\u001b[0m invalid syntax\n"
          ]
        }
      ]
    },
    {
      "cell_type": "code",
      "metadata": {
        "id": "1ZOMKdSDnjuw",
        "colab_type": "code",
        "colab": {}
      },
      "source": [
        ""
      ],
      "execution_count": 0,
      "outputs": []
    }
  ]
}